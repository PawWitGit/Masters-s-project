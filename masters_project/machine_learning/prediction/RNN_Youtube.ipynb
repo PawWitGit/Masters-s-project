{
 "cells": [
  {
   "cell_type": "code",
   "execution_count": 917,
   "metadata": {
    "id": "nRSlxT4q5EHJ"
   },
   "outputs": [
    {
     "ename": "SyntaxError",
     "evalue": "invalid syntax (3355453718.py, line 1)",
     "output_type": "error",
     "traceback": [
      "\u001b[1;36m  Input \u001b[1;32mIn [917]\u001b[1;36m\u001b[0m\n\u001b[1;33m    source https://github.com/nachi-hebbar/Time-Series-Forecasting-LSTM/blob/main/RNN_Youtube.ipynb\u001b[0m\n\u001b[1;37m           ^\u001b[0m\n\u001b[1;31mSyntaxError\u001b[0m\u001b[1;31m:\u001b[0m invalid syntax\n"
     ]
    }
   ],
   "source": [
    "# source https://github.com/nachi-hebbar/Time-Series-Forecasting-LSTM/blob/main/RNN_Youtube.ipynb\n",
    "import pandas as pd\n",
    "import numpy as np\n",
    "import matplotlib.pyplot as plt\n",
    "import datetime as dt"
   ]
  },
  {
   "cell_type": "code",
   "execution_count": null,
   "metadata": {
    "id": "2fRF6mEW5QbK"
   },
   "outputs": [
    {
     "data": {
      "text/html": [
       "<div>\n",
       "<style scoped>\n",
       "    .dataframe tbody tr th:only-of-type {\n",
       "        vertical-align: middle;\n",
       "    }\n",
       "\n",
       "    .dataframe tbody tr th {\n",
       "        vertical-align: top;\n",
       "    }\n",
       "\n",
       "    .dataframe thead th {\n",
       "        text-align: right;\n",
       "    }\n",
       "</style>\n",
       "<table border=\"1\" class=\"dataframe\">\n",
       "  <thead>\n",
       "    <tr style=\"text-align: right;\">\n",
       "      <th></th>\n",
       "      <th>humidity</th>\n",
       "    </tr>\n",
       "    <tr>\n",
       "      <th>date</th>\n",
       "      <th></th>\n",
       "    </tr>\n",
       "  </thead>\n",
       "  <tbody>\n",
       "    <tr>\n",
       "      <th>2021-11-12 20:30:17</th>\n",
       "      <td>39.31152</td>\n",
       "    </tr>\n",
       "    <tr>\n",
       "      <th>2021-11-12 20:30:35</th>\n",
       "      <td>39.24609</td>\n",
       "    </tr>\n",
       "    <tr>\n",
       "      <th>2021-11-12 20:30:52</th>\n",
       "      <td>39.18848</td>\n",
       "    </tr>\n",
       "    <tr>\n",
       "      <th>2021-11-12 20:31:10</th>\n",
       "      <td>39.74805</td>\n",
       "    </tr>\n",
       "    <tr>\n",
       "      <th>2021-11-12 20:31:41</th>\n",
       "      <td>39.12109</td>\n",
       "    </tr>\n",
       "  </tbody>\n",
       "</table>\n",
       "</div>"
      ],
      "text/plain": [
       "                     humidity\n",
       "date                         \n",
       "2021-11-12 20:30:17  39.31152\n",
       "2021-11-12 20:30:35  39.24609\n",
       "2021-11-12 20:30:52  39.18848\n",
       "2021-11-12 20:31:10  39.74805\n",
       "2021-11-12 20:31:41  39.12109"
      ]
     },
     "execution_count": 883,
     "metadata": {},
     "output_type": "execute_result"
    }
   ],
   "source": [
    "df = pd.read_csv(\"monthly_milk_production.csv\", index_col=\"Date\", parse_dates=True)\n",
    "df = pd.read_csv(\n",
    "    \"C:/Users/admin/Masters-s-project/masters_project/machine_learning/data_analysis/air_pollution_smog_clear.csv\",\n",
    "    index_col=\"date\",\n",
    "    parse_dates=True,\n",
    ")\n",
    "df = df[[\"humidity\"]]\n",
    "# df = df.resample('12H').mean()\n",
    "df.head()"
   ]
  },
  {
   "cell_type": "code",
   "execution_count": null,
   "metadata": {
    "colab": {
     "base_uri": "https://localhost:8080/",
     "height": 228
    },
    "id": "agtLk7dO5SsM",
    "outputId": "c10fc828-0a87-49c6-a562-4811d8c01f20"
   },
   "outputs": [
    {
     "data": {
      "text/html": [
       "<div>\n",
       "<style scoped>\n",
       "    .dataframe tbody tr th:only-of-type {\n",
       "        vertical-align: middle;\n",
       "    }\n",
       "\n",
       "    .dataframe tbody tr th {\n",
       "        vertical-align: top;\n",
       "    }\n",
       "\n",
       "    .dataframe thead th {\n",
       "        text-align: right;\n",
       "    }\n",
       "</style>\n",
       "<table border=\"1\" class=\"dataframe\">\n",
       "  <thead>\n",
       "    <tr style=\"text-align: right;\">\n",
       "      <th></th>\n",
       "      <th>humidity</th>\n",
       "    </tr>\n",
       "    <tr>\n",
       "      <th>date</th>\n",
       "      <th></th>\n",
       "    </tr>\n",
       "  </thead>\n",
       "  <tbody>\n",
       "    <tr>\n",
       "      <th>2021-11-12 20:30:17</th>\n",
       "      <td>39.31152</td>\n",
       "    </tr>\n",
       "    <tr>\n",
       "      <th>2021-11-12 20:30:35</th>\n",
       "      <td>39.24609</td>\n",
       "    </tr>\n",
       "    <tr>\n",
       "      <th>2021-11-12 20:30:52</th>\n",
       "      <td>39.18848</td>\n",
       "    </tr>\n",
       "    <tr>\n",
       "      <th>2021-11-12 20:31:10</th>\n",
       "      <td>39.74805</td>\n",
       "    </tr>\n",
       "    <tr>\n",
       "      <th>2021-11-12 20:31:41</th>\n",
       "      <td>39.12109</td>\n",
       "    </tr>\n",
       "  </tbody>\n",
       "</table>\n",
       "</div>"
      ],
      "text/plain": [
       "                     humidity\n",
       "date                         \n",
       "2021-11-12 20:30:17  39.31152\n",
       "2021-11-12 20:30:35  39.24609\n",
       "2021-11-12 20:30:52  39.18848\n",
       "2021-11-12 20:31:10  39.74805\n",
       "2021-11-12 20:31:41  39.12109"
      ]
     },
     "execution_count": 884,
     "metadata": {},
     "output_type": "execute_result"
    }
   ],
   "source": [
    "df.head()"
   ]
  },
  {
   "cell_type": "code",
   "execution_count": null,
   "metadata": {
    "colab": {
     "base_uri": "https://localhost:8080/",
     "height": 405
    },
    "id": "b1h7L_TG5tJK",
    "outputId": "908b0648-4938-4d40-d153-daf89de15aa4"
   },
   "outputs": [
    {
     "data": {
      "text/plain": [
       "<AxesSubplot:xlabel='date'>"
      ]
     },
     "execution_count": 885,
     "metadata": {},
     "output_type": "execute_result"
    },
    {
     "data": {
      "image/png": "[encoded data removed]",
      "text/plain": [
       "<Figure size 864x432 with 1 Axes>"
      ]
     },
     "metadata": {
      "needs_background": "light"
     },
     "output_type": "display_data"
    }
   ],
   "source": [
    "df.plot(figsize=(12, 6))"
   ]
  },
  {
   "cell_type": "code",
   "execution_count": null,
   "metadata": {
    "id": "jcew1g4f6L_X"
   },
   "outputs": [],
   "source": [
    "from statsmodels.tsa.seasonal import seasonal_decompose"
   ]
  },
  {
   "cell_type": "code",
   "execution_count": null,
   "metadata": {
    "colab": {
     "base_uri": "https://localhost:8080/",
     "height": 297
    },
    "id": "zfTZaeEH6Wpn",
    "outputId": "3f6120dd-ff89-4c21-bce1-32dc4d01b02c"
   },
   "outputs": [],
   "source": [
    "# results = seasonal_decompose(df[['PM1']])\n",
    "# results.plot()"
   ]
  },
  {
   "cell_type": "code",
   "execution_count": null,
   "metadata": {
    "colab": {
     "base_uri": "https://localhost:8080/"
    },
    "id": "IzkqCHh_6lfn",
    "outputId": "79c7a98c-acaf-4ad7-a807-70898e3b83e1"
   },
   "outputs": [
    {
     "data": {
      "text/plain": [
       "260383"
      ]
     },
     "execution_count": 888,
     "metadata": {},
     "output_type": "execute_result"
    }
   ],
   "source": [
    "len(df)"
   ]
  },
  {
   "cell_type": "code",
   "execution_count": null,
   "metadata": {
    "id": "1NoWcZEK6rPb"
   },
   "outputs": [],
   "source": [
    "train = df.iloc[:156]\n",
    "test = df.iloc[156:]"
   ]
  },
  {
   "cell_type": "code",
   "execution_count": null,
   "metadata": {
    "id": "dtAgIrE66u6x"
   },
   "outputs": [],
   "source": [
    "from sklearn.preprocessing import MinMaxScaler\n",
    "\n",
    "scaler = MinMaxScaler()"
   ]
  },
  {
   "cell_type": "code",
   "execution_count": null,
   "metadata": {
    "colab": {
     "base_uri": "https://localhost:8080/"
    },
    "id": "UDQODrt4D5NK",
    "outputId": "add8aaaf-9916-4484-af9c-3f5967dad1cd"
   },
   "outputs": [
    {
     "data": {
      "text/plain": [
       "(                     humidity\n",
       " date                         \n",
       " 2021-11-12 20:30:17  39.31152\n",
       " 2021-11-12 20:30:35  39.24609\n",
       " 2021-11-12 20:30:52  39.18848\n",
       " 2021-11-12 20:31:10  39.74805\n",
       " 2021-11-12 20:31:41  39.12109,\n",
       "                      humidity\n",
       " date                         \n",
       " 2022-04-01 13:48:50  78.59277\n",
       " 2022-04-01 13:49:26  80.68555\n",
       " 2022-04-01 13:50:01  82.28027\n",
       " 2022-04-01 13:50:34  83.14063\n",
       " 2022-04-01 13:51:16  82.50684)"
      ]
     },
     "execution_count": 891,
     "metadata": {},
     "output_type": "execute_result"
    }
   ],
   "source": [
    "df.head(), df.tail()"
   ]
  },
  {
   "cell_type": "code",
   "execution_count": null,
   "metadata": {
    "id": "ijgmVYgC6zBz"
   },
   "outputs": [],
   "source": [
    "scaler.fit(train)\n",
    "scaled_train = scaler.transform(train)\n",
    "scaled_test = scaler.transform(test)"
   ]
  },
  {
   "cell_type": "code",
   "execution_count": null,
   "metadata": {
    "colab": {
     "base_uri": "https://localhost:8080/"
    },
    "id": "BrdKbJ3g6-Et",
    "outputId": "ec956dda-aab6-433c-d846-523769fa65e7"
   },
   "outputs": [
    {
     "data": {
      "text/plain": [
       "array([[0.12614598],\n",
       "       [0.12520385],\n",
       "       [0.12437433],\n",
       "       [0.13243158],\n",
       "       [0.12340398],\n",
       "       [0.1227291 ],\n",
       "       [0.12856458],\n",
       "       [0.12194161],\n",
       "       [0.12109798],\n",
       "       [0.12097141]])"
      ]
     },
     "execution_count": 893,
     "metadata": {},
     "output_type": "execute_result"
    }
   ],
   "source": [
    "scaled_train[:10]"
   ]
  },
  {
   "cell_type": "code",
   "execution_count": null,
   "metadata": {
    "id": "0xryZ7rR62y5"
   },
   "outputs": [],
   "source": [
    "from keras.preprocessing.sequence import TimeseriesGenerator"
   ]
  },
  {
   "cell_type": "code",
   "execution_count": null,
   "metadata": {
    "id": "CqyTKCVt69Z9"
   },
   "outputs": [],
   "source": [
    "# define generator\n",
    "n_input = 3\n",
    "n_features = 1\n",
    "generator = TimeseriesGenerator(\n",
    "    scaled_train, scaled_train, length=n_input, batch_size=1\n",
    ")"
   ]
  },
  {
   "cell_type": "code",
   "execution_count": null,
   "metadata": {
    "colab": {
     "base_uri": "https://localhost:8080/"
    },
    "id": "ip6y5Ene7OM7",
    "outputId": "f8405e12-f285-4394-b2a4-d84b6e6dfec4"
   },
   "outputs": [
    {
     "name": "stdout",
     "output_type": "stream",
     "text": [
      "Given the Array: \n",
      "[0.12614598 0.12520385 0.12437433]\n",
      "Predict this y: \n",
      " [[0.13243158]]\n"
     ]
    }
   ],
   "source": [
    "X, y = generator[0]\n",
    "print(f\"Given the Array: \\n{X.flatten()}\")\n",
    "print(f\"Predict this y: \\n {y}\")"
   ]
  },
  {
   "cell_type": "code",
   "execution_count": null,
   "metadata": {
    "colab": {
     "base_uri": "https://localhost:8080/"
    },
    "id": "bQyGmvsi8HyR",
    "outputId": "2124feb3-263f-46ce-cb56-7b564bc3298c"
   },
   "outputs": [
    {
     "data": {
      "text/plain": [
       "(1, 3, 1)"
      ]
     },
     "execution_count": 897,
     "metadata": {},
     "output_type": "execute_result"
    }
   ],
   "source": [
    "X.shape"
   ]
  },
  {
   "cell_type": "code",
   "execution_count": null,
   "metadata": {
    "id": "jm-T4H4I7UaV"
   },
   "outputs": [],
   "source": [
    "# We do the same thing, but now instead for 12 months\n",
    "n_input = 12\n",
    "generator = TimeseriesGenerator(\n",
    "    scaled_train, scaled_train, length=n_input, batch_size=1\n",
    ")"
   ]
  },
  {
   "cell_type": "code",
   "execution_count": null,
   "metadata": {
    "id": "bzIs_l_k7Zqg"
   },
   "outputs": [],
   "source": [
    "from keras.models import Sequential\n",
    "from keras.layers import Dense\n",
    "from keras.layers import LSTM"
   ]
  },
  {
   "cell_type": "code",
   "execution_count": null,
   "metadata": {
    "id": "eJa-wFQf7jw6"
   },
   "outputs": [
    {
     "name": "stdout",
     "output_type": "stream",
     "text": [
      "WARNING:tensorflow:Layer lstm_25 will not use cuDNN kernels since it doesn't meet the criteria. It will use a generic GPU kernel as fallback when running on GPU.\n"
     ]
    }
   ],
   "source": [
    "# define model\n",
    "model = Sequential()\n",
    "model.add(LSTM(100, activation=\"relu\", input_shape=(n_input, n_features)))\n",
    "model.add(Dense(1))\n",
    "model.compile(optimizer=\"adam\", loss=\"mse\")"
   ]
  },
  {
   "cell_type": "code",
   "execution_count": null,
   "metadata": {
    "colab": {
     "base_uri": "https://localhost:8080/"
    },
    "id": "7i4ucUNv7lbk",
    "outputId": "7f66fb4d-f3af-4d9c-ae3a-9eb97a722ea6"
   },
   "outputs": [
    {
     "name": "stdout",
     "output_type": "stream",
     "text": [
      "Model: \"sequential_25\"\n",
      "_________________________________________________________________\n",
      " Layer (type)                Output Shape              Param #   \n",
      "=================================================================\n",
      " lstm_25 (LSTM)              (None, 100)               40800     \n",
      "                                                                 \n",
      " dense_25 (Dense)            (None, 1)                 101       \n",
      "                                                                 \n",
      "=================================================================\n",
      "Total params: 40,901\n",
      "Trainable params: 40,901\n",
      "Non-trainable params: 0\n",
      "_________________________________________________________________\n"
     ]
    }
   ],
   "source": [
    "model.summary()"
   ]
  },
  {
   "cell_type": "code",
   "execution_count": null,
   "metadata": {
    "colab": {
     "base_uri": "https://localhost:8080/"
    },
    "id": "p8yqUZaz7nwp",
    "outputId": "94c9f117-53be-438c-ba31-d7c7fa546f42"
   },
   "outputs": [
    {
     "name": "stdout",
     "output_type": "stream",
     "text": [
      "Epoch 1/50\n",
      "144/144 [==============================] - 6s 33ms/step - loss: 0.0368\n",
      "Epoch 2/50\n",
      "144/144 [==============================] - 5s 34ms/step - loss: 0.0266\n",
      "Epoch 3/50\n",
      "144/144 [==============================] - 4s 28ms/step - loss: 0.0252\n",
      "Epoch 4/50\n",
      "144/144 [==============================] - 4s 30ms/step - loss: 0.0241\n",
      "Epoch 5/50\n",
      "144/144 [==============================] - 4s 30ms/step - loss: 0.0237\n",
      "Epoch 6/50\n",
      "144/144 [==============================] - 4s 29ms/step - loss: 0.0228\n",
      "Epoch 7/50\n",
      "144/144 [==============================] - 4s 27ms/step - loss: 0.0229\n",
      "Epoch 8/50\n",
      "144/144 [==============================] - 4s 29ms/step - loss: 0.0228\n",
      "Epoch 9/50\n",
      "144/144 [==============================] - 4s 29ms/step - loss: 0.0209\n",
      "Epoch 10/50\n",
      "144/144 [==============================] - 4s 30ms/step - loss: 0.0211\n",
      "Epoch 11/50\n",
      "144/144 [==============================] - 4s 29ms/step - loss: 0.0205\n",
      "Epoch 12/50\n",
      "144/144 [==============================] - 4s 28ms/step - loss: 0.0198\n",
      "Epoch 13/50\n",
      "144/144 [==============================] - 4s 27ms/step - loss: 0.0202\n",
      "Epoch 14/50\n",
      "144/144 [==============================] - 4s 28ms/step - loss: 0.0189\n",
      "Epoch 15/50\n",
      "144/144 [==============================] - 4s 29ms/step - loss: 0.0194\n",
      "Epoch 16/50\n",
      "144/144 [==============================] - 4s 28ms/step - loss: 0.0190\n",
      "Epoch 17/50\n",
      "144/144 [==============================] - 4s 28ms/step - loss: 0.0190\n",
      "Epoch 18/50\n",
      "144/144 [==============================] - 4s 27ms/step - loss: 0.0188\n",
      "Epoch 19/50\n",
      "144/144 [==============================] - 4s 27ms/step - loss: 0.0186\n",
      "Epoch 20/50\n",
      "144/144 [==============================] - 4s 29ms/step - loss: 0.0191\n",
      "Epoch 21/50\n",
      "144/144 [==============================] - 4s 30ms/step - loss: 0.0187\n",
      "Epoch 22/50\n",
      "144/144 [==============================] - 4s 29ms/step - loss: 0.0185\n",
      "Epoch 23/50\n",
      "144/144 [==============================] - 5s 32ms/step - loss: 0.0179\n",
      "Epoch 24/50\n",
      "144/144 [==============================] - 4s 28ms/step - loss: 0.0179\n",
      "Epoch 25/50\n",
      "144/144 [==============================] - 4s 26ms/step - loss: 0.0176\n",
      "Epoch 26/50\n",
      "144/144 [==============================] - 4s 27ms/step - loss: 0.0174\n",
      "Epoch 27/50\n",
      "144/144 [==============================] - 4s 31ms/step - loss: 0.0175\n",
      "Epoch 28/50\n",
      "144/144 [==============================] - 4s 27ms/step - loss: 0.0174\n",
      "Epoch 29/50\n",
      "144/144 [==============================] - 4s 26ms/step - loss: 0.0166\n",
      "Epoch 30/50\n",
      "144/144 [==============================] - 4s 28ms/step - loss: 0.0181\n",
      "Epoch 31/50\n",
      "144/144 [==============================] - 4s 27ms/step - loss: 0.0164\n",
      "Epoch 32/50\n",
      "144/144 [==============================] - 4s 26ms/step - loss: 0.0155\n",
      "Epoch 33/50\n",
      "144/144 [==============================] - 4s 27ms/step - loss: 0.0158\n",
      "Epoch 34/50\n",
      "144/144 [==============================] - 4s 27ms/step - loss: 0.0161\n",
      "Epoch 35/50\n",
      "144/144 [==============================] - 4s 28ms/step - loss: 0.0156\n",
      "Epoch 36/50\n",
      "144/144 [==============================] - 4s 27ms/step - loss: 0.0153\n",
      "Epoch 37/50\n",
      "144/144 [==============================] - 4s 26ms/step - loss: 0.0145\n",
      "Epoch 38/50\n",
      "144/144 [==============================] - 4s 27ms/step - loss: 0.0145\n",
      "Epoch 39/50\n",
      "144/144 [==============================] - 4s 27ms/step - loss: 0.0140\n",
      "Epoch 40/50\n",
      "144/144 [==============================] - 4s 27ms/step - loss: 0.0138\n",
      "Epoch 41/50\n",
      "144/144 [==============================] - 4s 27ms/step - loss: 0.0134\n",
      "Epoch 42/50\n",
      "144/144 [==============================] - 4s 28ms/step - loss: 0.0126\n",
      "Epoch 43/50\n",
      "144/144 [==============================] - 5s 32ms/step - loss: 0.0143\n",
      "Epoch 44/50\n",
      "144/144 [==============================] - 5s 35ms/step - loss: 0.0133\n",
      "Epoch 45/50\n",
      "144/144 [==============================] - 4s 29ms/step - loss: 0.0123\n",
      "Epoch 46/50\n",
      "144/144 [==============================] - 4s 27ms/step - loss: 0.0113\n",
      "Epoch 47/50\n",
      "144/144 [==============================] - 4s 29ms/step - loss: 0.0131\n",
      "Epoch 48/50\n",
      "144/144 [==============================] - 4s 29ms/step - loss: 0.0131\n",
      "Epoch 49/50\n",
      "144/144 [==============================] - 4s 29ms/step - loss: 0.0118\n",
      "Epoch 50/50\n",
      "144/144 [==============================] - 4s 27ms/step - loss: 0.0117\n"
     ]
    },
    {
     "data": {
      "text/plain": [
       "<keras.callbacks.History at 0x24ea52f0310>"
      ]
     },
     "execution_count": 902,
     "metadata": {},
     "output_type": "execute_result"
    }
   ],
   "source": [
    "# fit model\n",
    "model.fit(generator, epochs=75)"
   ]
  },
  {
   "cell_type": "code",
   "execution_count": null,
   "metadata": {
    "colab": {
     "base_uri": "https://localhost:8080/",
     "height": 282
    },
    "id": "OjDsOKR67rs8",
    "outputId": "46a3d438-6cea-4a47-f4bf-b60f2246561d"
   },
   "outputs": [
    {
     "data": {
      "text/plain": [
       "[<matplotlib.lines.Line2D at 0x24ea9293970>]"
      ]
     },
     "execution_count": 903,
     "metadata": {},
     "output_type": "execute_result"
    },
    {
     "data": {
      "image/png": "[encoded data removed]",
      "text/plain": [
       "<Figure size 432x288 with 1 Axes>"
      ]
     },
     "metadata": {
      "needs_background": "light"
     },
     "output_type": "display_data"
    }
   ],
   "source": [
    "loss_per_epoch = model.history.history[\"loss\"]\n",
    "plt.figure()\n",
    "# figure.\n",
    "plt.plot(range(len(loss_per_epoch)), loss_per_epoch)\n",
    "# plt.figure.savefig(\"PM1,25.png\")"
   ]
  },
  {
   "cell_type": "code",
   "execution_count": null,
   "metadata": {
    "id": "h6h-fell70_S"
   },
   "outputs": [],
   "source": [
    "# last_train_batch = scaled_train[-12:]"
   ]
  },
  {
   "cell_type": "markdown",
   "metadata": {},
   "source": []
  },
  {
   "cell_type": "code",
   "execution_count": null,
   "metadata": {
    "id": "cwwv8O-p79bN"
   },
   "outputs": [],
   "source": [
    "# last_train_batch = last_train_batch.reshape((1, n_input, n_features))"
   ]
  },
  {
   "cell_type": "code",
   "execution_count": null,
   "metadata": {
    "colab": {
     "base_uri": "https://localhost:8080/"
    },
    "id": "v-4WD4t78MpJ",
    "outputId": "6f5ab088-0933-41e7-cf6a-239dc4236d6d"
   },
   "outputs": [],
   "source": [
    "# model.predict(last_train_batch)"
   ]
  },
  {
   "cell_type": "code",
   "execution_count": null,
   "metadata": {
    "colab": {
     "base_uri": "https://localhost:8080/"
    },
    "id": "ZbojFADE8StA",
    "outputId": "e708a2e2-ccf1-48e7-cace-a3b7a6202de1"
   },
   "outputs": [],
   "source": [
    "# scaled_test[0]"
   ]
  },
  {
   "cell_type": "code",
   "execution_count": null,
   "metadata": {
    "id": "_MP-5Wez8jbY"
   },
   "outputs": [],
   "source": [
    "# test_predictions = []\n",
    "\n",
    "# first_eval_batch = scaled_train[-n_input:]\n",
    "# current_batch = first_eval_batch.reshape((1, n_input, n_features))\n",
    "\n",
    "# for i in range(len(test)):\n",
    "\n",
    "#     # get the prediction value for the first batch\n",
    "#     current_pred = model.predict(current_batch)[0]\n",
    "\n",
    "#     # append the prediction into the array\n",
    "#     test_predictions.append(current_pred)\n",
    "\n",
    "#     # use the prediction to update the batch and remove the first value\n",
    "#     current_batch = np.append(current_batch[:,1:,:],[[current_pred]],axis=1)"
   ]
  },
  {
   "cell_type": "code",
   "execution_count": null,
   "metadata": {
    "colab": {
     "base_uri": "https://localhost:8080/"
    },
    "id": "_mhvFuEy8sB7",
    "outputId": "e65693ce-1c66-46b1-91e2-069e239ca984"
   },
   "outputs": [],
   "source": [
    "# test_predictions"
   ]
  },
  {
   "cell_type": "code",
   "execution_count": null,
   "metadata": {
    "colab": {
     "base_uri": "https://localhost:8080/",
     "height": 228
    },
    "id": "YYSqV10E9hlO",
    "outputId": "fe8ed427-3d97-429e-9349-115ba1168bc0"
   },
   "outputs": [],
   "source": [
    "# test.head()"
   ]
  },
  {
   "cell_type": "code",
   "execution_count": null,
   "metadata": {
    "id": "BHHzjNDK9EJZ"
   },
   "outputs": [],
   "source": [
    "# true_predictions = scaler.inverse_transform(test_predictions)"
   ]
  },
  {
   "cell_type": "code",
   "execution_count": null,
   "metadata": {
    "id": "0dsN45zf9I9u"
   },
   "outputs": [],
   "source": [
    "# test['Predictions'] = true_predictions"
   ]
  },
  {
   "cell_type": "code",
   "execution_count": null,
   "metadata": {
    "colab": {
     "base_uri": "https://localhost:8080/",
     "height": 366
    },
    "id": "xJ7sI5xh9Lb0",
    "outputId": "6aeaec0b-9c02-4d87-ca51-987048dae0ba"
   },
   "outputs": [],
   "source": [
    "# test.plot(figsize=(14,5))"
   ]
  },
  {
   "cell_type": "code",
   "execution_count": null,
   "metadata": {
    "colab": {
     "base_uri": "https://localhost:8080/"
    },
    "id": "OCsYjzge9OVe",
    "outputId": "4771bf0b-a885-4e3f-d16e-b5b9bd255cc2"
   },
   "outputs": [],
   "source": [
    "# from sklearn.metrics import mean_squared_error\n",
    "# from math import sqrt\n",
    "# rmse=sqrt(mean_squared_error(test['Production'],test['Predictions']))\n",
    "# print(rmse)"
   ]
  },
  {
   "cell_type": "code",
   "execution_count": null,
   "metadata": {
    "id": "Bld3MIqDNW6I"
   },
   "outputs": [],
   "source": []
  }
 ],
 "metadata": {
  "colab": {
   "collapsed_sections": [],
   "name": "RNN_Youtube.ipynb",
   "provenance": []
  },
  "kernelspec": {
   "display_name": "Python 3.9 (tensorflow)",
   "language": "python",
   "name": "tensorflow"
  },
  "language_info": {
   "codemirror_mode": {
    "name": "ipython",
    "version": 3
   },
   "file_extension": ".py",
   "mimetype": "text/x-python",
   "name": "python",
   "nbconvert_exporter": "python",
   "pygments_lexer": "ipython3",
   "version": "3.9.12"
  },
  "vscode": {
   "interpreter": {
    "hash": "beedbe2faf2f7048d727558d0bc3221e7eba2a0b921cac4d4771b2feb8f74b30"
   }
  }
 },
 "nbformat": 4,
 "nbformat_minor": 0
}
