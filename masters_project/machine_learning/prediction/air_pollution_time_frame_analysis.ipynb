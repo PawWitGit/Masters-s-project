{
 "cells": [
  {
   "cell_type": "code",
   "execution_count": 5,
   "metadata": {},
   "outputs": [
    {
     "name": "stdout",
     "output_type": "stream",
     "text": [
      "GPU AVAILABLE: True\n"
     ]
    }
   ],
   "source": [
    "#notebook settings\n",
    "import os\n",
    "import datetime\n",
    "\n",
    "import IPython\n",
    "import IPython.display\n",
    "import matplotlib as mpl\n",
    "import matplotlib.pyplot as plt\n",
    "import numpy as np\n",
    "import pandas as pd\n",
    "import seaborn as sns\n",
    "import tensorflow as tf\n",
    "\n",
    "mpl.rcParams['figure.figsize'] = (15,10)\n",
    "mpl.rcParams['axes.grid'] = True\n",
    "print(f'GPU AVAILABLE: {tf.test.is_gpu_available()}')\n",
    "\n",
    "#read data from csv file\n",
    "air_pollution = pd.read_csv('air_pollution_smog.csv')\n",
    "air_polluition = air_pollution.rename(columns={'date':'datetime'})"
   ]
  },
  {
   "cell_type": "code",
   "execution_count": null,
   "metadata": {},
   "outputs": [],
   "source": [
    "#convert values from datetime columnn to datetime type"
   ]
  }
 ],
 "metadata": {
  "interpreter": {
   "hash": "60b10e7d9e10a9141a63f231bfa48f15f237fb3ee2661c44b04a5a83dd7d6486"
  },
  "kernelspec": {
   "display_name": "Python 3.9.7 ('base')",
   "language": "python",
   "name": "python3"
  },
  "language_info": {
   "codemirror_mode": {
    "name": "ipython",
    "version": 3
   },
   "file_extension": ".py",
   "mimetype": "text/x-python",
   "name": "python",
   "nbconvert_exporter": "python",
   "pygments_lexer": "ipython3",
   "version": "3.9.12"
  },
  "orig_nbformat": 4
 },
 "nbformat": 4,
 "nbformat_minor": 2
}
