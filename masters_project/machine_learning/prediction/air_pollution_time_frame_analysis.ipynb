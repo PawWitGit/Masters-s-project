{
 "cells": [
  {
   "cell_type": "code",
   "execution_count": 1,
   "metadata": {},
   "outputs": [
    {
     "name": "stdout",
     "output_type": "stream",
     "text": [
      "WARNING:tensorflow:From C:\\Users\\admin\\AppData\\Local\\Temp\\ipykernel_5192\\311737099.py:18: is_gpu_available (from tensorflow.python.framework.test_util) is deprecated and will be removed in a future version.\n",
      "Instructions for updating:\n",
      "Use `tf.config.list_physical_devices('GPU')` instead.\n",
      "GPU AVAILABLE: True\n"
     ]
    }
   ],
   "source": [
    "\"\"\"In this notebook, I analysed the time frames measurmented data\"\"\"\n",
    "\n",
    "\"\"\"notebook settings\"\"\"\n",
    "import os\n",
    "import datetime\n",
    "\n",
    "import IPython\n",
    "import IPython.display\n",
    "import matplotlib as mpl\n",
    "import matplotlib.pyplot as plt\n",
    "import numpy as np\n",
    "import pandas as pd\n",
    "import seaborn as sns\n",
    "import tensorflow as tf\n",
    "\n",
    "mpl.rcParams['figure.figsize'] = (15,10)\n",
    "mpl.rcParams['axes.grid'] = True\n",
    "print(f'GPU AVAILABLE: {tf.test.is_gpu_available()}')\n",
    "\n",
    "\"\"\"read data from file\"\"\"\n",
    "air_pollution = pd.read_csv('air_pollution_smog.csv')\n",
    "air_pollution = air_pollution.rename(columns={'date':'datetime'})\n",
    "air_pollution.pop('entry_id')\n",
    "air_pollution_with_month = air_pollution"
   ]
  },
  {
   "cell_type": "code",
   "execution_count": 2,
   "metadata": {},
   "outputs": [
    {
     "data": {
      "text/html": [
       "<div>\n",
       "<style scoped>\n",
       "    .dataframe tbody tr th:only-of-type {\n",
       "        vertical-align: middle;\n",
       "    }\n",
       "\n",
       "    .dataframe tbody tr th {\n",
       "        vertical-align: top;\n",
       "    }\n",
       "\n",
       "    .dataframe thead th {\n",
       "        text-align: right;\n",
       "    }\n",
       "</style>\n",
       "<table border=\"1\" class=\"dataframe\">\n",
       "  <thead>\n",
       "    <tr style=\"text-align: right;\">\n",
       "      <th></th>\n",
       "      <th>datetime</th>\n",
       "      <th>PM1</th>\n",
       "      <th>PM2.5</th>\n",
       "      <th>PM10</th>\n",
       "      <th>temp</th>\n",
       "      <th>pressure</th>\n",
       "      <th>humidity</th>\n",
       "    </tr>\n",
       "  </thead>\n",
       "  <tbody>\n",
       "    <tr>\n",
       "      <th>0</th>\n",
       "      <td>2021-11-12 20:30:17+01:00</td>\n",
       "      <td>0.0</td>\n",
       "      <td>0.0</td>\n",
       "      <td>0.0</td>\n",
       "      <td>26.47</td>\n",
       "      <td>1022.04517</td>\n",
       "      <td>39.31152</td>\n",
       "    </tr>\n",
       "    <tr>\n",
       "      <th>1</th>\n",
       "      <td>2021-11-12 20:30:35+01:00</td>\n",
       "      <td>22.0</td>\n",
       "      <td>33.0</td>\n",
       "      <td>38.0</td>\n",
       "      <td>26.67</td>\n",
       "      <td>1022.39905</td>\n",
       "      <td>39.24609</td>\n",
       "    </tr>\n",
       "    <tr>\n",
       "      <th>2</th>\n",
       "      <td>2021-11-12 20:30:52+01:00</td>\n",
       "      <td>23.0</td>\n",
       "      <td>35.0</td>\n",
       "      <td>44.0</td>\n",
       "      <td>26.69</td>\n",
       "      <td>1022.33557</td>\n",
       "      <td>39.18848</td>\n",
       "    </tr>\n",
       "    <tr>\n",
       "      <th>3</th>\n",
       "      <td>2021-11-12 20:31:10+01:00</td>\n",
       "      <td>25.0</td>\n",
       "      <td>39.0</td>\n",
       "      <td>48.0</td>\n",
       "      <td>26.71</td>\n",
       "      <td>1022.28021</td>\n",
       "      <td>39.74805</td>\n",
       "    </tr>\n",
       "    <tr>\n",
       "      <th>4</th>\n",
       "      <td>2021-11-12 20:31:41+01:00</td>\n",
       "      <td>24.0</td>\n",
       "      <td>38.0</td>\n",
       "      <td>45.0</td>\n",
       "      <td>26.73</td>\n",
       "      <td>1022.37970</td>\n",
       "      <td>39.12109</td>\n",
       "    </tr>\n",
       "  </tbody>\n",
       "</table>\n",
       "</div>"
      ],
      "text/plain": [
       "                   datetime   PM1  PM2.5  PM10   temp    pressure  humidity\n",
       "0 2021-11-12 20:30:17+01:00   0.0    0.0   0.0  26.47  1022.04517  39.31152\n",
       "1 2021-11-12 20:30:35+01:00  22.0   33.0  38.0  26.67  1022.39905  39.24609\n",
       "2 2021-11-12 20:30:52+01:00  23.0   35.0  44.0  26.69  1022.33557  39.18848\n",
       "3 2021-11-12 20:31:10+01:00  25.0   39.0  48.0  26.71  1022.28021  39.74805\n",
       "4 2021-11-12 20:31:41+01:00  24.0   38.0  45.0  26.73  1022.37970  39.12109"
      ]
     },
     "execution_count": 2,
     "metadata": {},
     "output_type": "execute_result"
    }
   ],
   "source": [
    "\"\"\"convert values from datetime columnn to datetime type\"\"\"\n",
    "air_pollution['datetime'] = pd.to_datetime(air_pollution['datetime'])\n",
    "air_pollution_with_month['datetime'] = pd.to_datetime(air_pollution_with_month['datetime'], errors='coerce')\n",
    "air_pollution_with_month.head()\n"
   ]
  },
  {
   "cell_type": "code",
   "execution_count": 9,
   "metadata": {},
   "outputs": [
    {
     "data": {
      "text/plain": [
       "datetime    datetime64[ns, pytz.FixedOffset(60)]\n",
       "PM1                                      float64\n",
       "PM2.5                                    float64\n",
       "PM10                                     float64\n",
       "temp                                     float64\n",
       "pressure                                 float64\n",
       "humidity                                 float64\n",
       "month                                      int64\n",
       "dtype: object"
      ]
     },
     "execution_count": 9,
     "metadata": {},
     "output_type": "execute_result"
    }
   ],
   "source": [
    "air_pollution.dtypes"
   ]
  },
  {
   "cell_type": "code",
   "execution_count": 4,
   "metadata": {},
   "outputs": [
    {
     "data": {
      "text/plain": [
       "Timedelta('139 days 17:20:59')"
      ]
     },
     "execution_count": 4,
     "metadata": {},
     "output_type": "execute_result"
    }
   ],
   "source": [
    "\"\"\"Calculate days in which was sensor measur the smog and temp values\"\"\"\n",
    "air_pollution['datetime'].max() - air_pollution['datetime'].min()\n",
    "air_pollution.head()"
   ]
  },
  {
   "cell_type": "code",
   "execution_count": 5,
   "metadata": {},
   "outputs": [
    {
     "data": {
      "text/html": [
       "<div>\n",
       "<style scoped>\n",
       "    .dataframe tbody tr th:only-of-type {\n",
       "        vertical-align: middle;\n",
       "    }\n",
       "\n",
       "    .dataframe tbody tr th {\n",
       "        vertical-align: top;\n",
       "    }\n",
       "\n",
       "    .dataframe thead th {\n",
       "        text-align: right;\n",
       "    }\n",
       "</style>\n",
       "<table border=\"1\" class=\"dataframe\">\n",
       "  <thead>\n",
       "    <tr style=\"text-align: right;\">\n",
       "      <th></th>\n",
       "      <th>datetime</th>\n",
       "      <th>PM1</th>\n",
       "      <th>PM2.5</th>\n",
       "      <th>PM10</th>\n",
       "      <th>temp</th>\n",
       "      <th>pressure</th>\n",
       "      <th>humidity</th>\n",
       "      <th>month</th>\n",
       "    </tr>\n",
       "  </thead>\n",
       "  <tbody>\n",
       "    <tr>\n",
       "      <th>0</th>\n",
       "      <td>2021-11-12 20:30:17+01:00</td>\n",
       "      <td>0.0</td>\n",
       "      <td>0.0</td>\n",
       "      <td>0.0</td>\n",
       "      <td>26.47</td>\n",
       "      <td>1022.04517</td>\n",
       "      <td>39.31152</td>\n",
       "      <td>11</td>\n",
       "    </tr>\n",
       "    <tr>\n",
       "      <th>1</th>\n",
       "      <td>2021-11-12 20:30:35+01:00</td>\n",
       "      <td>22.0</td>\n",
       "      <td>33.0</td>\n",
       "      <td>38.0</td>\n",
       "      <td>26.67</td>\n",
       "      <td>1022.39905</td>\n",
       "      <td>39.24609</td>\n",
       "      <td>11</td>\n",
       "    </tr>\n",
       "    <tr>\n",
       "      <th>2</th>\n",
       "      <td>2021-11-12 20:30:52+01:00</td>\n",
       "      <td>23.0</td>\n",
       "      <td>35.0</td>\n",
       "      <td>44.0</td>\n",
       "      <td>26.69</td>\n",
       "      <td>1022.33557</td>\n",
       "      <td>39.18848</td>\n",
       "      <td>11</td>\n",
       "    </tr>\n",
       "    <tr>\n",
       "      <th>3</th>\n",
       "      <td>2021-11-12 20:31:10+01:00</td>\n",
       "      <td>25.0</td>\n",
       "      <td>39.0</td>\n",
       "      <td>48.0</td>\n",
       "      <td>26.71</td>\n",
       "      <td>1022.28021</td>\n",
       "      <td>39.74805</td>\n",
       "      <td>11</td>\n",
       "    </tr>\n",
       "    <tr>\n",
       "      <th>4</th>\n",
       "      <td>2021-11-12 20:31:41+01:00</td>\n",
       "      <td>24.0</td>\n",
       "      <td>38.0</td>\n",
       "      <td>45.0</td>\n",
       "      <td>26.73</td>\n",
       "      <td>1022.37970</td>\n",
       "      <td>39.12109</td>\n",
       "      <td>11</td>\n",
       "    </tr>\n",
       "  </tbody>\n",
       "</table>\n",
       "</div>"
      ],
      "text/plain": [
       "                   datetime   PM1  PM2.5  PM10   temp    pressure  humidity  \\\n",
       "0 2021-11-12 20:30:17+01:00   0.0    0.0   0.0  26.47  1022.04517  39.31152   \n",
       "1 2021-11-12 20:30:35+01:00  22.0   33.0  38.0  26.67  1022.39905  39.24609   \n",
       "2 2021-11-12 20:30:52+01:00  23.0   35.0  44.0  26.69  1022.33557  39.18848   \n",
       "3 2021-11-12 20:31:10+01:00  25.0   39.0  48.0  26.71  1022.28021  39.74805   \n",
       "4 2021-11-12 20:31:41+01:00  24.0   38.0  45.0  26.73  1022.37970  39.12109   \n",
       "\n",
       "   month  \n",
       "0     11  \n",
       "1     11  \n",
       "2     11  \n",
       "3     11  \n",
       "4     11  "
      ]
     },
     "execution_count": 5,
     "metadata": {},
     "output_type": "execute_result"
    }
   ],
   "source": [
    "air_pollution_with_month = air_pollution\n",
    "air_pollution_with_month[\"month\"] = air_pollution_with_month[\"datetime\"].dt.month\n",
    "air_pollution_with_month.head()\n"
   ]
  },
  {
   "cell_type": "code",
   "execution_count": 6,
   "metadata": {},
   "outputs": [
    {
     "data": {
      "text/plain": [
       "(datetime    2021-11-12 20:30:17+01:00\n",
       " PM1                               0.0\n",
       " PM2.5                             0.0\n",
       " PM10                              0.0\n",
       " temp                       -142.71001\n",
       " pressure                   -363.19589\n",
       " humidity                          0.0\n",
       " month                               1\n",
       " dtype: object,\n",
       " datetime    2022-04-01 13:51:16+01:00\n",
       " PM1                             286.0\n",
       " PM2.5                           702.0\n",
       " PM10                            948.0\n",
       " temp                        194.99001\n",
       " pressure                   2154.94946\n",
       " humidity                        100.0\n",
       " month                              12\n",
       " dtype: object)"
      ]
     },
     "execution_count": 6,
     "metadata": {},
     "output_type": "execute_result"
    }
   ],
   "source": [
    "air_pollution_with_month.min(), air_pollution_with_month.max()"
   ]
  },
  {
   "cell_type": "code",
   "execution_count": 17,
   "metadata": {},
   "outputs": [
    {
     "name": "stderr",
     "output_type": "stream",
     "text": [
      "C:\\Users\\admin\\AppData\\Local\\Temp\\ipykernel_5192\\2861688919.py:1: FutureWarning: Indexing with multiple keys (implicitly converted to a tuple of keys) will be deprecated, use a list instead.\n",
      "  air_pollution_with_month.groupby([air_pollution_with_month[\"datetime\"].dt.weekday])[\"PM1\", \"PM2.5\", \"PM10\",\"temp\",\"pressure\",\"humidity\"].mean()\n"
     ]
    },
    {
     "data": {
      "text/html": [
       "<div>\n",
       "<style scoped>\n",
       "    .dataframe tbody tr th:only-of-type {\n",
       "        vertical-align: middle;\n",
       "    }\n",
       "\n",
       "    .dataframe tbody tr th {\n",
       "        vertical-align: top;\n",
       "    }\n",
       "\n",
       "    .dataframe thead th {\n",
       "        text-align: right;\n",
       "    }\n",
       "</style>\n",
       "<table border=\"1\" class=\"dataframe\">\n",
       "  <thead>\n",
       "    <tr style=\"text-align: right;\">\n",
       "      <th></th>\n",
       "      <th>PM1</th>\n",
       "      <th>PM2.5</th>\n",
       "      <th>PM10</th>\n",
       "      <th>temp</th>\n",
       "      <th>pressure</th>\n",
       "      <th>humidity</th>\n",
       "    </tr>\n",
       "    <tr>\n",
       "      <th>datetime</th>\n",
       "      <th></th>\n",
       "      <th></th>\n",
       "      <th></th>\n",
       "      <th></th>\n",
       "      <th></th>\n",
       "      <th></th>\n",
       "    </tr>\n",
       "  </thead>\n",
       "  <tbody>\n",
       "    <tr>\n",
       "      <th>0</th>\n",
       "      <td>27.253070</td>\n",
       "      <td>43.092085</td>\n",
       "      <td>54.319846</td>\n",
       "      <td>4.185380</td>\n",
       "      <td>1020.856172</td>\n",
       "      <td>59.106074</td>\n",
       "    </tr>\n",
       "    <tr>\n",
       "      <th>1</th>\n",
       "      <td>30.174315</td>\n",
       "      <td>48.177347</td>\n",
       "      <td>60.721568</td>\n",
       "      <td>7.116591</td>\n",
       "      <td>1008.487234</td>\n",
       "      <td>61.538523</td>\n",
       "    </tr>\n",
       "    <tr>\n",
       "      <th>2</th>\n",
       "      <td>31.552477</td>\n",
       "      <td>50.344421</td>\n",
       "      <td>62.983889</td>\n",
       "      <td>9.806231</td>\n",
       "      <td>993.429342</td>\n",
       "      <td>62.841969</td>\n",
       "    </tr>\n",
       "    <tr>\n",
       "      <th>3</th>\n",
       "      <td>27.808542</td>\n",
       "      <td>44.049875</td>\n",
       "      <td>54.781009</td>\n",
       "      <td>5.748744</td>\n",
       "      <td>1013.582795</td>\n",
       "      <td>61.751107</td>\n",
       "    </tr>\n",
       "    <tr>\n",
       "      <th>4</th>\n",
       "      <td>23.578423</td>\n",
       "      <td>36.601146</td>\n",
       "      <td>45.934261</td>\n",
       "      <td>5.215863</td>\n",
       "      <td>1018.137150</td>\n",
       "      <td>62.908049</td>\n",
       "    </tr>\n",
       "    <tr>\n",
       "      <th>5</th>\n",
       "      <td>27.061808</td>\n",
       "      <td>42.415561</td>\n",
       "      <td>52.897102</td>\n",
       "      <td>4.601616</td>\n",
       "      <td>1024.148441</td>\n",
       "      <td>59.125133</td>\n",
       "    </tr>\n",
       "    <tr>\n",
       "      <th>6</th>\n",
       "      <td>27.549692</td>\n",
       "      <td>43.927489</td>\n",
       "      <td>55.317917</td>\n",
       "      <td>4.291492</td>\n",
       "      <td>1022.241066</td>\n",
       "      <td>56.651100</td>\n",
       "    </tr>\n",
       "  </tbody>\n",
       "</table>\n",
       "</div>"
      ],
      "text/plain": [
       "                PM1      PM2.5       PM10      temp     pressure   humidity\n",
       "datetime                                                                   \n",
       "0         27.253070  43.092085  54.319846  4.185380  1020.856172  59.106074\n",
       "1         30.174315  48.177347  60.721568  7.116591  1008.487234  61.538523\n",
       "2         31.552477  50.344421  62.983889  9.806231   993.429342  62.841969\n",
       "3         27.808542  44.049875  54.781009  5.748744  1013.582795  61.751107\n",
       "4         23.578423  36.601146  45.934261  5.215863  1018.137150  62.908049\n",
       "5         27.061808  42.415561  52.897102  4.601616  1024.148441  59.125133\n",
       "6         27.549692  43.927489  55.317917  4.291492  1022.241066  56.651100"
      ]
     },
     "execution_count": 17,
     "metadata": {},
     "output_type": "execute_result"
    }
   ],
   "source": [
    "air_pollution_with_month.groupby([air_pollution_with_month[\"datetime\"].dt.weekday])[\"PM1\", \"PM2.5\", \"PM10\",\"temp\",\"pressure\",\"humidity\"].mean()"
   ]
  },
  {
   "cell_type": "code",
   "execution_count": 34,
   "metadata": {},
   "outputs": [
    {
     "data": {
      "text/plain": [
       "0   2021-11-12 20:30:17+01:00\n",
       "1   2021-11-12 20:30:35+01:00\n",
       "2   2021-11-12 20:30:52+01:00\n",
       "3   2021-11-12 20:31:10+01:00\n",
       "4   2021-11-12 20:31:41+01:00\n",
       "Name: datetime, dtype: datetime64[ns, pytz.FixedOffset(60)]"
      ]
     },
     "execution_count": 34,
     "metadata": {},
     "output_type": "execute_result"
    }
   ],
   "source": [
    "#add datetime to index  \n",
    "datetime_series = air_pollution_with_month[\"datetime\"]\n",
    "datetime_series.head()"
   ]
  },
  {
   "cell_type": "code",
   "execution_count": 38,
   "metadata": {},
   "outputs": [
    {
     "ename": "TypeError",
     "evalue": "cannot do slice indexing on RangeIndex with these indexers [2021-11-12 20:31:41+01:00] of type str",
     "output_type": "error",
     "traceback": [
      "\u001b[1;31m---------------------------------------------------------------------------\u001b[0m",
      "\u001b[1;31mTypeError\u001b[0m                                 Traceback (most recent call last)",
      "\u001b[1;32mc:\\Users\\admin\\Masters-s-project\\masters_project\\machine_learning\\prediction\\air_pollution_time_frame_analysis.ipynb Cell 9'\u001b[0m in \u001b[0;36m<cell line: 1>\u001b[1;34m()\u001b[0m\n\u001b[1;32m----> <a href='vscode-notebook-cell:/c%3A/Users/admin/Masters-s-project/masters_project/machine_learning/prediction/air_pollution_time_frame_analysis.ipynb#ch0000009?line=0'>1</a>\u001b[0m air_pollution_with_month[\u001b[39m\"\u001b[39;49m\u001b[39m2021-11-12 20:31:41+01:00\u001b[39;49m\u001b[39m\"\u001b[39;49m: \u001b[39m\"\u001b[39;49m\u001b[39m2021-11-12 20:30:17+01:00\u001b[39;49m\u001b[39m\"\u001b[39;49m]\u001b[39m.\u001b[39mplot(\u001b[39m\"\u001b[39m\u001b[39mPM1\u001b[39m\u001b[39m\"\u001b[39m)\n",
      "File \u001b[1;32mc:\\Users\\admin\\miniconda3\\envs\\tensorflow\\lib\\site-packages\\pandas\\core\\frame.py:3477\u001b[0m, in \u001b[0;36mDataFrame.__getitem__\u001b[1;34m(self, key)\u001b[0m\n\u001b[0;32m   <a href='file:///c%3A/Users/admin/miniconda3/envs/tensorflow/lib/site-packages/pandas/core/frame.py?line=3473'>3474</a>\u001b[0m         \u001b[39mreturn\u001b[39;00m \u001b[39mself\u001b[39m\u001b[39m.\u001b[39m_get_item_cache(key)\n\u001b[0;32m   <a href='file:///c%3A/Users/admin/miniconda3/envs/tensorflow/lib/site-packages/pandas/core/frame.py?line=3475'>3476</a>\u001b[0m \u001b[39m# Do we have a slicer (on rows)?\u001b[39;00m\n\u001b[1;32m-> <a href='file:///c%3A/Users/admin/miniconda3/envs/tensorflow/lib/site-packages/pandas/core/frame.py?line=3476'>3477</a>\u001b[0m indexer \u001b[39m=\u001b[39m convert_to_index_sliceable(\u001b[39mself\u001b[39;49m, key)\n\u001b[0;32m   <a href='file:///c%3A/Users/admin/miniconda3/envs/tensorflow/lib/site-packages/pandas/core/frame.py?line=3477'>3478</a>\u001b[0m \u001b[39mif\u001b[39;00m indexer \u001b[39mis\u001b[39;00m \u001b[39mnot\u001b[39;00m \u001b[39mNone\u001b[39;00m:\n\u001b[0;32m   <a href='file:///c%3A/Users/admin/miniconda3/envs/tensorflow/lib/site-packages/pandas/core/frame.py?line=3478'>3479</a>\u001b[0m     \u001b[39mif\u001b[39;00m \u001b[39misinstance\u001b[39m(indexer, np\u001b[39m.\u001b[39mndarray):\n",
      "File \u001b[1;32mc:\\Users\\admin\\miniconda3\\envs\\tensorflow\\lib\\site-packages\\pandas\\core\\indexing.py:2324\u001b[0m, in \u001b[0;36mconvert_to_index_sliceable\u001b[1;34m(obj, key)\u001b[0m\n\u001b[0;32m   <a href='file:///c%3A/Users/admin/miniconda3/envs/tensorflow/lib/site-packages/pandas/core/indexing.py?line=2321'>2322</a>\u001b[0m idx \u001b[39m=\u001b[39m obj\u001b[39m.\u001b[39mindex\n\u001b[0;32m   <a href='file:///c%3A/Users/admin/miniconda3/envs/tensorflow/lib/site-packages/pandas/core/indexing.py?line=2322'>2323</a>\u001b[0m \u001b[39mif\u001b[39;00m \u001b[39misinstance\u001b[39m(key, \u001b[39mslice\u001b[39m):\n\u001b[1;32m-> <a href='file:///c%3A/Users/admin/miniconda3/envs/tensorflow/lib/site-packages/pandas/core/indexing.py?line=2323'>2324</a>\u001b[0m     \u001b[39mreturn\u001b[39;00m idx\u001b[39m.\u001b[39;49m_convert_slice_indexer(key, kind\u001b[39m=\u001b[39;49m\u001b[39m\"\u001b[39;49m\u001b[39mgetitem\u001b[39;49m\u001b[39m\"\u001b[39;49m)\n\u001b[0;32m   <a href='file:///c%3A/Users/admin/miniconda3/envs/tensorflow/lib/site-packages/pandas/core/indexing.py?line=2325'>2326</a>\u001b[0m \u001b[39melif\u001b[39;00m \u001b[39misinstance\u001b[39m(key, \u001b[39mstr\u001b[39m):\n\u001b[0;32m   <a href='file:///c%3A/Users/admin/miniconda3/envs/tensorflow/lib/site-packages/pandas/core/indexing.py?line=2326'>2327</a>\u001b[0m \n\u001b[0;32m   <a href='file:///c%3A/Users/admin/miniconda3/envs/tensorflow/lib/site-packages/pandas/core/indexing.py?line=2327'>2328</a>\u001b[0m     \u001b[39m# we are an actual column\u001b[39;00m\n\u001b[0;32m   <a href='file:///c%3A/Users/admin/miniconda3/envs/tensorflow/lib/site-packages/pandas/core/indexing.py?line=2328'>2329</a>\u001b[0m     \u001b[39mif\u001b[39;00m key \u001b[39min\u001b[39;00m obj\u001b[39m.\u001b[39mcolumns:\n",
      "File \u001b[1;32mc:\\Users\\admin\\miniconda3\\envs\\tensorflow\\lib\\site-packages\\pandas\\core\\indexes\\numeric.py:279\u001b[0m, in \u001b[0;36mNumericIndex._convert_slice_indexer\u001b[1;34m(self, key, kind)\u001b[0m\n\u001b[0;32m    <a href='file:///c%3A/Users/admin/miniconda3/envs/tensorflow/lib/site-packages/pandas/core/indexes/numeric.py?line=274'>275</a>\u001b[0m     \u001b[39m# We always treat __getitem__ slicing as label-based\u001b[39;00m\n\u001b[0;32m    <a href='file:///c%3A/Users/admin/miniconda3/envs/tensorflow/lib/site-packages/pandas/core/indexes/numeric.py?line=275'>276</a>\u001b[0m     \u001b[39m# translate to locations\u001b[39;00m\n\u001b[0;32m    <a href='file:///c%3A/Users/admin/miniconda3/envs/tensorflow/lib/site-packages/pandas/core/indexes/numeric.py?line=276'>277</a>\u001b[0m     \u001b[39mreturn\u001b[39;00m \u001b[39mself\u001b[39m\u001b[39m.\u001b[39mslice_indexer(key\u001b[39m.\u001b[39mstart, key\u001b[39m.\u001b[39mstop, key\u001b[39m.\u001b[39mstep)\n\u001b[1;32m--> <a href='file:///c%3A/Users/admin/miniconda3/envs/tensorflow/lib/site-packages/pandas/core/indexes/numeric.py?line=278'>279</a>\u001b[0m \u001b[39mreturn\u001b[39;00m \u001b[39msuper\u001b[39;49m()\u001b[39m.\u001b[39;49m_convert_slice_indexer(key, kind\u001b[39m=\u001b[39;49mkind)\n",
      "File \u001b[1;32mc:\\Users\\admin\\miniconda3\\envs\\tensorflow\\lib\\site-packages\\pandas\\core\\indexes\\base.py:4041\u001b[0m, in \u001b[0;36mIndex._convert_slice_indexer\u001b[1;34m(self, key, kind)\u001b[0m\n\u001b[0;32m   <a href='file:///c%3A/Users/admin/miniconda3/envs/tensorflow/lib/site-packages/pandas/core/indexes/base.py?line=4035'>4036</a>\u001b[0m \u001b[39m\"\"\"\u001b[39;00m\n\u001b[0;32m   <a href='file:///c%3A/Users/admin/miniconda3/envs/tensorflow/lib/site-packages/pandas/core/indexes/base.py?line=4036'>4037</a>\u001b[0m \u001b[39mcalled from the getitem slicers, validate that we are in fact\u001b[39;00m\n\u001b[0;32m   <a href='file:///c%3A/Users/admin/miniconda3/envs/tensorflow/lib/site-packages/pandas/core/indexes/base.py?line=4037'>4038</a>\u001b[0m \u001b[39mintegers\u001b[39;00m\n\u001b[0;32m   <a href='file:///c%3A/Users/admin/miniconda3/envs/tensorflow/lib/site-packages/pandas/core/indexes/base.py?line=4038'>4039</a>\u001b[0m \u001b[39m\"\"\"\u001b[39;00m\n\u001b[0;32m   <a href='file:///c%3A/Users/admin/miniconda3/envs/tensorflow/lib/site-packages/pandas/core/indexes/base.py?line=4039'>4040</a>\u001b[0m \u001b[39mif\u001b[39;00m \u001b[39mself\u001b[39m\u001b[39m.\u001b[39mis_integer() \u001b[39mor\u001b[39;00m is_index_slice:\n\u001b[1;32m-> <a href='file:///c%3A/Users/admin/miniconda3/envs/tensorflow/lib/site-packages/pandas/core/indexes/base.py?line=4040'>4041</a>\u001b[0m     \u001b[39mself\u001b[39;49m\u001b[39m.\u001b[39;49m_validate_indexer(\u001b[39m\"\u001b[39;49m\u001b[39mslice\u001b[39;49m\u001b[39m\"\u001b[39;49m, key\u001b[39m.\u001b[39;49mstart, \u001b[39m\"\u001b[39;49m\u001b[39mgetitem\u001b[39;49m\u001b[39m\"\u001b[39;49m)\n\u001b[0;32m   <a href='file:///c%3A/Users/admin/miniconda3/envs/tensorflow/lib/site-packages/pandas/core/indexes/base.py?line=4041'>4042</a>\u001b[0m     \u001b[39mself\u001b[39m\u001b[39m.\u001b[39m_validate_indexer(\u001b[39m\"\u001b[39m\u001b[39mslice\u001b[39m\u001b[39m\"\u001b[39m, key\u001b[39m.\u001b[39mstop, \u001b[39m\"\u001b[39m\u001b[39mgetitem\u001b[39m\u001b[39m\"\u001b[39m)\n\u001b[0;32m   <a href='file:///c%3A/Users/admin/miniconda3/envs/tensorflow/lib/site-packages/pandas/core/indexes/base.py?line=4042'>4043</a>\u001b[0m     \u001b[39mself\u001b[39m\u001b[39m.\u001b[39m_validate_indexer(\u001b[39m\"\u001b[39m\u001b[39mslice\u001b[39m\u001b[39m\"\u001b[39m, key\u001b[39m.\u001b[39mstep, \u001b[39m\"\u001b[39m\u001b[39mgetitem\u001b[39m\u001b[39m\"\u001b[39m)\n",
      "File \u001b[1;32mc:\\Users\\admin\\miniconda3\\envs\\tensorflow\\lib\\site-packages\\pandas\\core\\indexes\\base.py:6308\u001b[0m, in \u001b[0;36mIndex._validate_indexer\u001b[1;34m(self, form, key, kind)\u001b[0m\n\u001b[0;32m   <a href='file:///c%3A/Users/admin/miniconda3/envs/tensorflow/lib/site-packages/pandas/core/indexes/base.py?line=6304'>6305</a>\u001b[0m \u001b[39massert\u001b[39;00m kind \u001b[39min\u001b[39;00m [\u001b[39m\"\u001b[39m\u001b[39mgetitem\u001b[39m\u001b[39m\"\u001b[39m, \u001b[39m\"\u001b[39m\u001b[39miloc\u001b[39m\u001b[39m\"\u001b[39m]\n\u001b[0;32m   <a href='file:///c%3A/Users/admin/miniconda3/envs/tensorflow/lib/site-packages/pandas/core/indexes/base.py?line=6306'>6307</a>\u001b[0m \u001b[39mif\u001b[39;00m key \u001b[39mis\u001b[39;00m \u001b[39mnot\u001b[39;00m \u001b[39mNone\u001b[39;00m \u001b[39mand\u001b[39;00m \u001b[39mnot\u001b[39;00m is_integer(key):\n\u001b[1;32m-> <a href='file:///c%3A/Users/admin/miniconda3/envs/tensorflow/lib/site-packages/pandas/core/indexes/base.py?line=6307'>6308</a>\u001b[0m     \u001b[39mraise\u001b[39;00m \u001b[39mself\u001b[39m\u001b[39m.\u001b[39m_invalid_indexer(form, key)\n",
      "\u001b[1;31mTypeError\u001b[0m: cannot do slice indexing on RangeIndex with these indexers [2021-11-12 20:31:41+01:00] of type str"
     ]
    }
   ],
   "source": [
    "air_pollution_with_month[\"2021-11-12 20:31:41+01:00\": \"2021-11-12 20:30:17+01:00\"].plot(\"PM1\")"
   ]
  },
  {
   "cell_type": "code",
   "execution_count": null,
   "metadata": {},
   "outputs": [],
   "source": []
  }
 ],
 "metadata": {
  "interpreter": {
   "hash": "60b10e7d9e10a9141a63f231bfa48f15f237fb3ee2661c44b04a5a83dd7d6486"
  },
  "kernelspec": {
   "display_name": "Python 3.9 (tensorflow)",
   "language": "python",
   "name": "tensorflow"
  },
  "language_info": {
   "codemirror_mode": {
    "name": "ipython",
    "version": 3
   },
   "file_extension": ".py",
   "mimetype": "text/x-python",
   "name": "python",
   "nbconvert_exporter": "python",
   "pygments_lexer": "ipython3",
   "version": "3.9.12"
  },
  "orig_nbformat": 4
 },
 "nbformat": 4,
 "nbformat_minor": 2
}
