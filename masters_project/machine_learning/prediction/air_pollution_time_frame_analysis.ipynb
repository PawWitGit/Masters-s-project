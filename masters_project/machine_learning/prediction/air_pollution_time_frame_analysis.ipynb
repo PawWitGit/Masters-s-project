{
 "cells": [
  {
   "cell_type": "code",
   "execution_count": 16,
   "metadata": {},
   "outputs": [
    {
     "name": "stdout",
     "output_type": "stream",
     "text": [
      "GPU AVAILABLE: True\n"
     ]
    }
   ],
   "source": [
    "\"\"\"In this notebook, I analysed the time frames measurmented data\"\"\"\n",
    "\n",
    "\"\"\"notebook settings\"\"\"\n",
    "import os\n",
    "import datetime\n",
    "\n",
    "import IPython\n",
    "import IPython.display\n",
    "import matplotlib as mpl\n",
    "import matplotlib.pyplot as plt\n",
    "import numpy as np\n",
    "import pandas as pd\n",
    "import seaborn as sns\n",
    "import tensorflow as tf\n",
    "\n",
    "mpl.rcParams['figure.figsize'] = (15,10)\n",
    "mpl.rcParams['axes.grid'] = True\n",
    "print(f'GPU AVAILABLE: {tf.test.is_gpu_available()}')\n",
    "\n",
    "\"\"\"read data from file\"\"\"\n",
    "air_pollution = pd.read_csv('air_pollution_smog.csv')\n",
    "air_pollution = air_pollution.rename(columns={'date':'datetime'})"
   ]
  },
  {
   "cell_type": "code",
   "execution_count": 12,
   "metadata": {},
   "outputs": [
    {
     "data": {
      "text/html": [
       "<div>\n",
       "<style scoped>\n",
       "    .dataframe tbody tr th:only-of-type {\n",
       "        vertical-align: middle;\n",
       "    }\n",
       "\n",
       "    .dataframe tbody tr th {\n",
       "        vertical-align: top;\n",
       "    }\n",
       "\n",
       "    .dataframe thead th {\n",
       "        text-align: right;\n",
       "    }\n",
       "</style>\n",
       "<table border=\"1\" class=\"dataframe\">\n",
       "  <thead>\n",
       "    <tr style=\"text-align: right;\">\n",
       "      <th></th>\n",
       "      <th>datetime</th>\n",
       "      <th>entry_id</th>\n",
       "      <th>PM1</th>\n",
       "      <th>PM2.5</th>\n",
       "      <th>PM10</th>\n",
       "      <th>temp</th>\n",
       "      <th>pressure</th>\n",
       "      <th>humidity</th>\n",
       "    </tr>\n",
       "  </thead>\n",
       "  <tbody>\n",
       "    <tr>\n",
       "      <th>0</th>\n",
       "      <td>2021-11-12 20:30:17+01:00</td>\n",
       "      <td>1</td>\n",
       "      <td>0.0</td>\n",
       "      <td>0.0</td>\n",
       "      <td>0.0</td>\n",
       "      <td>26.47</td>\n",
       "      <td>1022.04517</td>\n",
       "      <td>39.31152</td>\n",
       "    </tr>\n",
       "    <tr>\n",
       "      <th>1</th>\n",
       "      <td>2021-11-12 20:30:35+01:00</td>\n",
       "      <td>2</td>\n",
       "      <td>22.0</td>\n",
       "      <td>33.0</td>\n",
       "      <td>38.0</td>\n",
       "      <td>26.67</td>\n",
       "      <td>1022.39905</td>\n",
       "      <td>39.24609</td>\n",
       "    </tr>\n",
       "    <tr>\n",
       "      <th>2</th>\n",
       "      <td>2021-11-12 20:30:52+01:00</td>\n",
       "      <td>3</td>\n",
       "      <td>23.0</td>\n",
       "      <td>35.0</td>\n",
       "      <td>44.0</td>\n",
       "      <td>26.69</td>\n",
       "      <td>1022.33557</td>\n",
       "      <td>39.18848</td>\n",
       "    </tr>\n",
       "    <tr>\n",
       "      <th>3</th>\n",
       "      <td>2021-11-12 20:31:10+01:00</td>\n",
       "      <td>4</td>\n",
       "      <td>25.0</td>\n",
       "      <td>39.0</td>\n",
       "      <td>48.0</td>\n",
       "      <td>26.71</td>\n",
       "      <td>1022.28021</td>\n",
       "      <td>39.74805</td>\n",
       "    </tr>\n",
       "    <tr>\n",
       "      <th>4</th>\n",
       "      <td>2021-11-12 20:31:41+01:00</td>\n",
       "      <td>5</td>\n",
       "      <td>24.0</td>\n",
       "      <td>38.0</td>\n",
       "      <td>45.0</td>\n",
       "      <td>26.73</td>\n",
       "      <td>1022.37970</td>\n",
       "      <td>39.12109</td>\n",
       "    </tr>\n",
       "  </tbody>\n",
       "</table>\n",
       "</div>"
      ],
      "text/plain": [
       "                    datetime  entry_id   PM1  PM2.5  PM10   temp    pressure  \\\n",
       "0  2021-11-12 20:30:17+01:00         1   0.0    0.0   0.0  26.47  1022.04517   \n",
       "1  2021-11-12 20:30:35+01:00         2  22.0   33.0  38.0  26.67  1022.39905   \n",
       "2  2021-11-12 20:30:52+01:00         3  23.0   35.0  44.0  26.69  1022.33557   \n",
       "3  2021-11-12 20:31:10+01:00         4  25.0   39.0  48.0  26.71  1022.28021   \n",
       "4  2021-11-12 20:31:41+01:00         5  24.0   38.0  45.0  26.73  1022.37970   \n",
       "\n",
       "   humidity  \n",
       "0  39.31152  \n",
       "1  39.24609  \n",
       "2  39.18848  \n",
       "3  39.74805  \n",
       "4  39.12109  "
      ]
     },
     "execution_count": 12,
     "metadata": {},
     "output_type": "execute_result"
    }
   ],
   "source": [
    "\"\"\"convert values from datetime columnn to datetime type\"\"\"\n",
    "air_pollution['datetime'] = pd.to_datetime(air_pollution['datetime'])\n",
    "air_pollution.head()"
   ]
  },
  {
   "cell_type": "code",
   "execution_count": 14,
   "metadata": {},
   "outputs": [
    {
     "data": {
      "text/plain": [
       "0         2021-11-12 20:30:17+01:00\n",
       "1         2021-11-12 20:30:35+01:00\n",
       "2         2021-11-12 20:30:52+01:00\n",
       "3         2021-11-12 20:31:10+01:00\n",
       "4         2021-11-12 20:31:41+01:00\n",
       "                    ...            \n",
       "260378    2022-04-01 13:48:50+02:00\n",
       "260379    2022-04-01 13:49:26+02:00\n",
       "260380    2022-04-01 13:50:01+02:00\n",
       "260381    2022-04-01 13:50:34+02:00\n",
       "260382    2022-04-01 13:51:16+02:00\n",
       "Name: datetime, Length: 260383, dtype: object"
      ]
     },
     "execution_count": 14,
     "metadata": {},
     "output_type": "execute_result"
    }
   ],
   "source": [
    "air_pollution['datetime'] "
   ]
  },
  {
   "cell_type": "code",
   "execution_count": 15,
   "metadata": {},
   "outputs": [
    {
     "data": {
      "text/plain": [
       "datetime.timedelta(days=139, seconds=58859)"
      ]
     },
     "execution_count": 15,
     "metadata": {},
     "output_type": "execute_result"
    }
   ],
   "source": [
    "\"\"\"Calculate days in which was sensor measur the smog and temp values\"\"\"\n",
    "air_pollution['datetime'].max() - air_pollution['datetime'].min()"
   ]
  },
  {
   "cell_type": "code",
   "execution_count": null,
   "metadata": {},
   "outputs": [],
   "source": []
  }
 ],
 "metadata": {
  "interpreter": {
   "hash": "60b10e7d9e10a9141a63f231bfa48f15f237fb3ee2661c44b04a5a83dd7d6486"
  },
  "kernelspec": {
   "display_name": "Python 3.9.7 ('base')",
   "language": "python",
   "name": "python3"
  },
  "language_info": {
   "codemirror_mode": {
    "name": "ipython",
    "version": 3
   },
   "file_extension": ".py",
   "mimetype": "text/x-python",
   "name": "python",
   "nbconvert_exporter": "python",
   "pygments_lexer": "ipython3",
   "version": "3.9.12"
  },
  "orig_nbformat": 4
 },
 "nbformat": 4,
 "nbformat_minor": 2
}
