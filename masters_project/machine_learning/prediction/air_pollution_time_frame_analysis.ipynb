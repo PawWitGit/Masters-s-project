{
 "cells": [
  {
   "cell_type": "code",
   "execution_count": 90,
   "metadata": {},
   "outputs": [
    {
     "name": "stdout",
     "output_type": "stream",
     "text": [
      "GPU AVAILABLE: True\n"
     ]
    }
   ],
   "source": [
    "\"\"\"In this notebook, I analysed the time frames measurmented data\"\"\"\n",
    "\n",
    "\"\"\"notebook settings\"\"\"\n",
    "import os\n",
    "import datetime\n",
    "\n",
    "import IPython\n",
    "import IPython.display\n",
    "import matplotlib as mpl\n",
    "import matplotlib.pyplot as plt\n",
    "import numpy as np\n",
    "import pandas as pd\n",
    "import seaborn as sns\n",
    "import tensorflow as tf\n",
    "\n",
    "mpl.rcParams['figure.figsize'] = (15,10)\n",
    "mpl.rcParams['axes.grid'] = True\n",
    "print(f'GPU AVAILABLE: {tf.test.is_gpu_available()}')\n",
    "\n",
    "\"\"\"read data from file\"\"\"\n",
    "air_pollution = pd.read_csv('air_pollution_smog.csv')\n",
    "air_pollution = air_pollution.rename(columns={'date':'datetime'})\n",
    "air_pollution.pop('entry_id')\n",
    "air_pollution_with_month = air_pollution"
   ]
  },
  {
   "cell_type": "code",
   "execution_count": 91,
   "metadata": {},
   "outputs": [
    {
     "data": {
      "text/html": [
       "<div>\n",
       "<style scoped>\n",
       "    .dataframe tbody tr th:only-of-type {\n",
       "        vertical-align: middle;\n",
       "    }\n",
       "\n",
       "    .dataframe tbody tr th {\n",
       "        vertical-align: top;\n",
       "    }\n",
       "\n",
       "    .dataframe thead th {\n",
       "        text-align: right;\n",
       "    }\n",
       "</style>\n",
       "<table border=\"1\" class=\"dataframe\">\n",
       "  <thead>\n",
       "    <tr style=\"text-align: right;\">\n",
       "      <th></th>\n",
       "      <th>datetime</th>\n",
       "      <th>PM1</th>\n",
       "      <th>PM2.5</th>\n",
       "      <th>PM10</th>\n",
       "      <th>temp</th>\n",
       "      <th>pressure</th>\n",
       "      <th>humidity</th>\n",
       "      <th>Date</th>\n",
       "    </tr>\n",
       "  </thead>\n",
       "  <tbody>\n",
       "    <tr>\n",
       "      <th>0</th>\n",
       "      <td>2021-11-12 20:30:17+01:00</td>\n",
       "      <td>0.0</td>\n",
       "      <td>0.0</td>\n",
       "      <td>0.0</td>\n",
       "      <td>26.47</td>\n",
       "      <td>1022.04517</td>\n",
       "      <td>39.31152</td>\n",
       "      <td>2021-11-12 20:30:17+01:00</td>\n",
       "    </tr>\n",
       "    <tr>\n",
       "      <th>1</th>\n",
       "      <td>2021-11-12 20:30:35+01:00</td>\n",
       "      <td>22.0</td>\n",
       "      <td>33.0</td>\n",
       "      <td>38.0</td>\n",
       "      <td>26.67</td>\n",
       "      <td>1022.39905</td>\n",
       "      <td>39.24609</td>\n",
       "      <td>2021-11-12 20:30:35+01:00</td>\n",
       "    </tr>\n",
       "    <tr>\n",
       "      <th>2</th>\n",
       "      <td>2021-11-12 20:30:52+01:00</td>\n",
       "      <td>23.0</td>\n",
       "      <td>35.0</td>\n",
       "      <td>44.0</td>\n",
       "      <td>26.69</td>\n",
       "      <td>1022.33557</td>\n",
       "      <td>39.18848</td>\n",
       "      <td>2021-11-12 20:30:52+01:00</td>\n",
       "    </tr>\n",
       "    <tr>\n",
       "      <th>3</th>\n",
       "      <td>2021-11-12 20:31:10+01:00</td>\n",
       "      <td>25.0</td>\n",
       "      <td>39.0</td>\n",
       "      <td>48.0</td>\n",
       "      <td>26.71</td>\n",
       "      <td>1022.28021</td>\n",
       "      <td>39.74805</td>\n",
       "      <td>2021-11-12 20:31:10+01:00</td>\n",
       "    </tr>\n",
       "    <tr>\n",
       "      <th>4</th>\n",
       "      <td>2021-11-12 20:31:41+01:00</td>\n",
       "      <td>24.0</td>\n",
       "      <td>38.0</td>\n",
       "      <td>45.0</td>\n",
       "      <td>26.73</td>\n",
       "      <td>1022.37970</td>\n",
       "      <td>39.12109</td>\n",
       "      <td>2021-11-12 20:31:41+01:00</td>\n",
       "    </tr>\n",
       "  </tbody>\n",
       "</table>\n",
       "</div>"
      ],
      "text/plain": [
       "                   datetime   PM1  PM2.5  PM10   temp    pressure  humidity  \\\n",
       "0 2021-11-12 20:30:17+01:00   0.0    0.0   0.0  26.47  1022.04517  39.31152   \n",
       "1 2021-11-12 20:30:35+01:00  22.0   33.0  38.0  26.67  1022.39905  39.24609   \n",
       "2 2021-11-12 20:30:52+01:00  23.0   35.0  44.0  26.69  1022.33557  39.18848   \n",
       "3 2021-11-12 20:31:10+01:00  25.0   39.0  48.0  26.71  1022.28021  39.74805   \n",
       "4 2021-11-12 20:31:41+01:00  24.0   38.0  45.0  26.73  1022.37970  39.12109   \n",
       "\n",
       "                       Date  \n",
       "0 2021-11-12 20:30:17+01:00  \n",
       "1 2021-11-12 20:30:35+01:00  \n",
       "2 2021-11-12 20:30:52+01:00  \n",
       "3 2021-11-12 20:31:10+01:00  \n",
       "4 2021-11-12 20:31:41+01:00  "
      ]
     },
     "execution_count": 91,
     "metadata": {},
     "output_type": "execute_result"
    }
   ],
   "source": [
    "\"\"\"convert values from datetime columnn to datetime type\"\"\"\n",
    "air_pollution['datetime'] = pd.to_datetime(air_pollution['datetime'])\n",
    "air_pollution_with_month['Date'] = pd.to_datetime(air_pollution_with_month['datetime'], errors='coerce')\n",
    "air_pollution.head()\n"
   ]
  },
  {
   "cell_type": "code",
   "execution_count": 92,
   "metadata": {},
   "outputs": [
    {
     "data": {
      "text/plain": [
       "0        2021-11-12 20:30:17+01:00\n",
       "1        2021-11-12 20:30:35+01:00\n",
       "2        2021-11-12 20:30:52+01:00\n",
       "3        2021-11-12 20:31:10+01:00\n",
       "4        2021-11-12 20:31:41+01:00\n",
       "                    ...           \n",
       "260378   2022-04-01 13:48:50+01:00\n",
       "260379   2022-04-01 13:49:26+01:00\n",
       "260380   2022-04-01 13:50:01+01:00\n",
       "260381   2022-04-01 13:50:34+01:00\n",
       "260382   2022-04-01 13:51:16+01:00\n",
       "Name: datetime, Length: 260383, dtype: datetime64[ns, pytz.FixedOffset(60)]"
      ]
     },
     "execution_count": 92,
     "metadata": {},
     "output_type": "execute_result"
    }
   ],
   "source": [
    "air_pollution['datetime'] "
   ]
  },
  {
   "cell_type": "code",
   "execution_count": 93,
   "metadata": {},
   "outputs": [
    {
     "data": {
      "text/plain": [
       "Timedelta('139 days 17:20:59')"
      ]
     },
     "execution_count": 93,
     "metadata": {},
     "output_type": "execute_result"
    }
   ],
   "source": [
    "\"\"\"Calculate days in which was sensor measur the smog and temp values\"\"\"\n",
    "air_pollution['datetime'].max() - air_pollution['datetime'].min()\n"
   ]
  },
  {
   "cell_type": "code",
   "execution_count": 94,
   "metadata": {},
   "outputs": [
    {
     "data": {
      "text/html": [
       "<div>\n",
       "<style scoped>\n",
       "    .dataframe tbody tr th:only-of-type {\n",
       "        vertical-align: middle;\n",
       "    }\n",
       "\n",
       "    .dataframe tbody tr th {\n",
       "        vertical-align: top;\n",
       "    }\n",
       "\n",
       "    .dataframe thead th {\n",
       "        text-align: right;\n",
       "    }\n",
       "</style>\n",
       "<table border=\"1\" class=\"dataframe\">\n",
       "  <thead>\n",
       "    <tr style=\"text-align: right;\">\n",
       "      <th></th>\n",
       "      <th>datetime</th>\n",
       "      <th>PM1</th>\n",
       "      <th>PM2.5</th>\n",
       "      <th>PM10</th>\n",
       "      <th>temp</th>\n",
       "      <th>pressure</th>\n",
       "      <th>humidity</th>\n",
       "      <th>Date</th>\n",
       "      <th>month</th>\n",
       "    </tr>\n",
       "  </thead>\n",
       "  <tbody>\n",
       "    <tr>\n",
       "      <th>0</th>\n",
       "      <td>2021-11-12 20:30:17+01:00</td>\n",
       "      <td>0.0</td>\n",
       "      <td>0.0</td>\n",
       "      <td>0.0</td>\n",
       "      <td>26.47</td>\n",
       "      <td>1022.04517</td>\n",
       "      <td>39.31152</td>\n",
       "      <td>2021-11-12 20:30:17+01:00</td>\n",
       "      <td>11</td>\n",
       "    </tr>\n",
       "    <tr>\n",
       "      <th>1</th>\n",
       "      <td>2021-11-12 20:30:35+01:00</td>\n",
       "      <td>22.0</td>\n",
       "      <td>33.0</td>\n",
       "      <td>38.0</td>\n",
       "      <td>26.67</td>\n",
       "      <td>1022.39905</td>\n",
       "      <td>39.24609</td>\n",
       "      <td>2021-11-12 20:30:35+01:00</td>\n",
       "      <td>11</td>\n",
       "    </tr>\n",
       "    <tr>\n",
       "      <th>2</th>\n",
       "      <td>2021-11-12 20:30:52+01:00</td>\n",
       "      <td>23.0</td>\n",
       "      <td>35.0</td>\n",
       "      <td>44.0</td>\n",
       "      <td>26.69</td>\n",
       "      <td>1022.33557</td>\n",
       "      <td>39.18848</td>\n",
       "      <td>2021-11-12 20:30:52+01:00</td>\n",
       "      <td>11</td>\n",
       "    </tr>\n",
       "    <tr>\n",
       "      <th>3</th>\n",
       "      <td>2021-11-12 20:31:10+01:00</td>\n",
       "      <td>25.0</td>\n",
       "      <td>39.0</td>\n",
       "      <td>48.0</td>\n",
       "      <td>26.71</td>\n",
       "      <td>1022.28021</td>\n",
       "      <td>39.74805</td>\n",
       "      <td>2021-11-12 20:31:10+01:00</td>\n",
       "      <td>11</td>\n",
       "    </tr>\n",
       "    <tr>\n",
       "      <th>4</th>\n",
       "      <td>2021-11-12 20:31:41+01:00</td>\n",
       "      <td>24.0</td>\n",
       "      <td>38.0</td>\n",
       "      <td>45.0</td>\n",
       "      <td>26.73</td>\n",
       "      <td>1022.37970</td>\n",
       "      <td>39.12109</td>\n",
       "      <td>2021-11-12 20:31:41+01:00</td>\n",
       "      <td>11</td>\n",
       "    </tr>\n",
       "  </tbody>\n",
       "</table>\n",
       "</div>"
      ],
      "text/plain": [
       "                   datetime   PM1  PM2.5  PM10   temp    pressure  humidity  \\\n",
       "0 2021-11-12 20:30:17+01:00   0.0    0.0   0.0  26.47  1022.04517  39.31152   \n",
       "1 2021-11-12 20:30:35+01:00  22.0   33.0  38.0  26.67  1022.39905  39.24609   \n",
       "2 2021-11-12 20:30:52+01:00  23.0   35.0  44.0  26.69  1022.33557  39.18848   \n",
       "3 2021-11-12 20:31:10+01:00  25.0   39.0  48.0  26.71  1022.28021  39.74805   \n",
       "4 2021-11-12 20:31:41+01:00  24.0   38.0  45.0  26.73  1022.37970  39.12109   \n",
       "\n",
       "                       Date  month  \n",
       "0 2021-11-12 20:30:17+01:00     11  \n",
       "1 2021-11-12 20:30:35+01:00     11  \n",
       "2 2021-11-12 20:30:52+01:00     11  \n",
       "3 2021-11-12 20:31:10+01:00     11  \n",
       "4 2021-11-12 20:31:41+01:00     11  "
      ]
     },
     "execution_count": 94,
     "metadata": {},
     "output_type": "execute_result"
    }
   ],
   "source": [
    "air_pollution_with_month = air_pollution\n",
    "air_pollution_with_month[\"month\"] = air_pollution_with_month[\"datetime\"].dt.month\n",
    "air_pollution_with_month.head()\n"
   ]
  },
  {
   "cell_type": "code",
   "execution_count": 96,
   "metadata": {},
   "outputs": [
    {
     "data": {
      "text/plain": [
       "<AxesSubplot:xlabel='datetime'>"
      ]
     },
     "execution_count": 96,
     "metadata": {},
     "output_type": "execute_result"
    },
    {
     "data": {
      "image/png": "[encoded data removed]",
      "text/plain": [
       "<Figure size 1080x720 with 1 Axes>"
      ]
     },
     "metadata": {
      "needs_background": "light"
     },
     "output_type": "display_data"
    }
   ],
   "source": [
    "air_pollution_with_month_pop = air_pollution_with_month.set_index(\"datetime\").plot()"
   ]
  },
  {
   "cell_type": "code",
   "execution_count": null,
   "metadata": {},
   "outputs": [],
   "source": []
  }
 ],
 "metadata": {
  "interpreter": {
   "hash": "60b10e7d9e10a9141a63f231bfa48f15f237fb3ee2661c44b04a5a83dd7d6486"
  },
  "kernelspec": {
   "display_name": "Python 3.9.7 ('base')",
   "language": "python",
   "name": "python3"
  },
  "language_info": {
   "codemirror_mode": {
    "name": "ipython",
    "version": 3
   },
   "file_extension": ".py",
   "mimetype": "text/x-python",
   "name": "python",
   "nbconvert_exporter": "python",
   "pygments_lexer": "ipython3",
   "version": "3.9.12"
  },
  "orig_nbformat": 4
 },
 "nbformat": 4,
 "nbformat_minor": 2
}
