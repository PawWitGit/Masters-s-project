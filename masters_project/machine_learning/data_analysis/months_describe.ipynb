{
 "cells": [
  {
   "cell_type": "markdown",
   "metadata": {},
   "source": [
    "Month describe mean, std etc. values"
   ]
  },
  {
   "cell_type": "code",
   "execution_count": 239,
   "metadata": {},
   "outputs": [],
   "source": [
    "from asyncio.log import logger\n",
    "from datetime import datetime\n",
    "from tkinter import messagebox\n",
    "import pandas as pd\n",
    "import matplotlib as plt\n",
    "import matplotlib.pyplot as plt\n",
    "import matplotlib.pylab as plt\n",
    "import logging\n",
    "import time\n",
    "import calendar\n",
    "import string\n",
    "import tkinter as tk\n",
    "from numpy import isin\n",
    "import numpy as np\n",
    "import plotly.graph_objs as go\n",
    "import sklearn\n",
    "from scipy import stats"
   ]
  },
  {
   "cell_type": "code",
   "execution_count": 240,
   "metadata": {},
   "outputs": [
    {
     "data": {
      "text/plain": [
       "0              1\n",
       "1              2\n",
       "2              3\n",
       "3              4\n",
       "4              5\n",
       "           ...  \n",
       "260378    260389\n",
       "260379    260390\n",
       "260380    260391\n",
       "260381    260392\n",
       "260382    260393\n",
       "Name: entry_id, Length: 260383, dtype: int64"
      ]
     },
     "execution_count": 240,
     "metadata": {},
     "output_type": "execute_result"
    }
   ],
   "source": [
    "MONTHS_DF = pd.read_csv(\n",
    "    \"C:/Users/admin/Masters-s-project/masters_project/machine_learning/data_analysis/air_pollution_smog_clear.csv\"\n",
    ")\n",
    "MONTHS_DF.pop(\"entry_id\")"
   ]
  },
  {
   "cell_type": "code",
   "execution_count": 241,
   "metadata": {},
   "outputs": [],
   "source": [
    "# all months desribe\n",
    "DESCRIBE_DF = MONTHS_DF.describe()"
   ]
  },
  {
   "cell_type": "code",
   "execution_count": 242,
   "metadata": {},
   "outputs": [],
   "source": [
    "def remove_df_outliers(df: pd.DataFrame=MONTHS_DF) -> pd.DataFrame:\n",
    "    cols = [\"PM1\",\"PM2.5\", 'PM10', 'temp',\"pressure\", \"humidity\",\"\"] # one or more\n",
    "\n",
    "    Q1 = df[cols].quantile(0.25)\n",
    "    Q3 = df[cols].quantile(0.75)\n",
    "    IQR = Q3 - Q1\n",
    "\n",
    "    df = df[~((df[cols] < (Q1 - 1.5 * IQR)) |(df[cols] > (Q3 + 1.5 * IQR))).any(axis=1)]\n",
    "\n",
    "    return(df)\n",
    "\n",
    "MONTHS_DF = remove_df_outliers()"
   ]
  },
  {
   "cell_type": "code",
   "execution_count": 243,
   "metadata": {},
   "outputs": [],
   "source": [
    "# Months describe() functions\n",
    "\n",
    "\n",
    "def get_month(month: str):\n",
    "\n",
    "    if month == \"November\":\n",
    "        start_date = \"13/11/21\"\n",
    "        end_date = f\"{calendar.monthrange(2021, 11)[1]}/11/21\"\n",
    "        # end_date = \"31/11/21\"\n",
    "    elif month == \"December\":\n",
    "        start_date = \"01/12/21\"\n",
    "        end_date = f\"{calendar.monthrange(2021, 12)[1]}/12/21\"\n",
    "        # # end_date = \"31/12/21\"\n",
    "    elif month == \"January\":\n",
    "        start_date = \"01/01/22\"\n",
    "        end_date = f\"{calendar.monthrange(2022, 1)[1]}/01/22\"\n",
    "        # end_date = \"31/01/22\"\n",
    "    elif month == \"February\":\n",
    "        start_date = \"01/02/22\"\n",
    "        end_date = f\"{calendar.monthrange(2022, 2)[1]}/02/22\"\n",
    "        # end_date = \"28/12/21\"\n",
    "    elif month == \"March\":\n",
    "        start_date = \"01/03/22\"\n",
    "        end_date = f\"{calendar.monthrange(2022, 3)[1]}/03/22\"\n",
    "        # end_date = \"31/03/22\"\n",
    "    return [start_date, end_date]\n",
    "\n",
    "\n",
    "def get_months() -> list:\n",
    "    months = [\"November\", \"December\", \"January\", \"February\", \"March\"]\n",
    "    return months\n",
    "\n",
    "\n",
    "def get_month_describe(\n",
    "    df: pd.DataFrame, start_date: str, end_date: str\n",
    ") -> pd.DataFrame:\n",
    "\n",
    "    df[\"date\"] = pd.to_datetime(df[\"date\"])\n",
    "    new_df = (df[\"date\"] >= start_date) & (df[\"date\"] <= end_date)\n",
    "    df1 = df.loc[new_df]\n",
    "    df2 = df1.set_index(\"date\")\n",
    "    print()\n",
    "\n",
    "    return df2.describe()\n",
    "\n",
    "\n",
    "def remove_outliers(df,columns: list):\n",
    "    z = np.abs(stats.zscore(df[columns]))\n",
    "    print(z)\n",
    "\n",
    "    return z\n",
    "\n",
    "\n",
    "def get_columns(columns: list) -> list:\n",
    "    return columns\n",
    "\n",
    "\n",
    "def plot_data(df: pd.DataFrame, start_date: str, end_date: str, columns: list) -> None:\n",
    "\n",
    "    df[\"date\"] = pd.to_datetime(df[\"date\"])\n",
    "    new_df = (df[\"date\"] >= start_date) & (df[\"date\"] <= end_date)\n",
    "    df2 = df.loc[new_df]\n",
    "    plt.figure(figsize=(20, 14))\n",
    "    df2.plot(x=\"date\", y=get_columns(columns))\n",
    "    plt.xlabel(\"Date -->\", fontsize=14, color=\"green\")\n",
    "    plt.ylabel(\"Values -->\", fontsize=14, color=\"red\")\n",
    "    plt.show()\n",
    "\n",
    "\n",
    "def plot_without_outliers(\n",
    "    df: pd.DataFrame, start_date: str, end_date: str, columns: list\n",
    ") -> None:\n",
    "\n",
    "    df[\"date\"] = pd.to_datetime(df[\"date\"])\n",
    "    new_df = (df[\"date\"] >= start_date) & (df[\"date\"] <= end_date)\n",
    "    df2 = df.loc[new_df]\n",
    "    plt.subplot(1, 2, 1)\n",
    "    plt.figure(figsize=(20, 14))\n",
    "    df2.plot(x=\"date\", y=get_columns(columns))\n",
    "    df2.plot(x=\"date\", y=get_columns(columns))\n",
    "    plt.xlabel(\"Date -->\", fontsize=14, color=\"green\")\n",
    "    plt.ylabel(\"Values -->\", fontsize=14, color=\"red\")\n",
    "    plt.show()\n",
    "\n",
    "\n",
    "def trace_plot(df: pd.DataFrame, start_date: str, end_date: str, columns: list) -> None:\n",
    "\n",
    "    df[\"date\"] = pd.to_datetime(df[\"date\"])\n",
    "    new_df = (df[\"date\"] >= start_date) & (df[\"date\"] <= end_date)\n",
    "    df2 = df.loc[new_df]\n",
    "    trace = go.Scatter(x=df2.index, y=get_columns(columns))\n",
    "\n",
    "    # go.Figure(data=[trace])"
   ]
  },
  {
   "cell_type": "code",
   "execution_count": 244,
   "metadata": {},
   "outputs": [
    {
     "name": "stderr",
     "output_type": "stream",
     "text": [
      "C:\\Users\\admin\\AppData\\Local\\Temp\\ipykernel_2716\\2752194807.py:38: SettingWithCopyWarning:\n",
      "\n",
      "\n",
      "A value is trying to be set on a copy of a slice from a DataFrame.\n",
      "Try using .loc[row_indexer,col_indexer] = value instead\n",
      "\n",
      "See the caveats in the documentation: https://pandas.pydata.org/pandas-docs/stable/user_guide/indexing.html#returning-a-view-versus-a-copy\n",
      "\n",
      "C:\\Users\\admin\\AppData\\Local\\Temp\\ipykernel_2716\\2752194807.py:38: SettingWithCopyWarning:\n",
      "\n",
      "\n",
      "A value is trying to be set on a copy of a slice from a DataFrame.\n",
      "Try using .loc[row_indexer,col_indexer] = value instead\n",
      "\n",
      "See the caveats in the documentation: https://pandas.pydata.org/pandas-docs/stable/user_guide/indexing.html#returning-a-view-versus-a-copy\n",
      "\n",
      "C:\\Users\\admin\\AppData\\Local\\Temp\\ipykernel_2716\\2752194807.py:38: SettingWithCopyWarning:\n",
      "\n",
      "\n",
      "A value is trying to be set on a copy of a slice from a DataFrame.\n",
      "Try using .loc[row_indexer,col_indexer] = value instead\n",
      "\n",
      "See the caveats in the documentation: https://pandas.pydata.org/pandas-docs/stable/user_guide/indexing.html#returning-a-view-versus-a-copy\n",
      "\n"
     ]
    },
    {
     "name": "stdout",
     "output_type": "stream",
     "text": [
      "\n",
      "\n",
      "\n"
     ]
    },
    {
     "name": "stderr",
     "output_type": "stream",
     "text": [
      "C:\\Users\\admin\\AppData\\Local\\Temp\\ipykernel_2716\\2752194807.py:38: SettingWithCopyWarning:\n",
      "\n",
      "\n",
      "A value is trying to be set on a copy of a slice from a DataFrame.\n",
      "Try using .loc[row_indexer,col_indexer] = value instead\n",
      "\n",
      "See the caveats in the documentation: https://pandas.pydata.org/pandas-docs/stable/user_guide/indexing.html#returning-a-view-versus-a-copy\n",
      "\n",
      "C:\\Users\\admin\\AppData\\Local\\Temp\\ipykernel_2716\\2752194807.py:38: SettingWithCopyWarning:\n",
      "\n",
      "\n",
      "A value is trying to be set on a copy of a slice from a DataFrame.\n",
      "Try using .loc[row_indexer,col_indexer] = value instead\n",
      "\n",
      "See the caveats in the documentation: https://pandas.pydata.org/pandas-docs/stable/user_guide/indexing.html#returning-a-view-versus-a-copy\n",
      "\n"
     ]
    },
    {
     "name": "stdout",
     "output_type": "stream",
     "text": [
      "\n",
      "\n"
     ]
    }
   ],
   "source": [
    "\"\"\"\n",
    "MONTHS DATAFRAMES\n",
    "\"\"\"\n",
    "NOVEMBER_DF = pd.DataFrame()\n",
    "DECEMBER_DF = pd.DataFrame()\n",
    "JANUARY_DF = pd.DataFrame()\n",
    "FEBRUARY_DF = pd.DataFrame()\n",
    "MARCH_DF = pd.DataFrame()\n",
    "MONTHS = [NOVEMBER_DF, DECEMBER_DF, JANUARY_DF, FEBRUARY_DF, MARCH_DF]\n",
    "df_drops = [\"count\", \"std\" \"25%\", \"50%\", \"75%\"]\n",
    "df_drops_len = len(df_drops)\n",
    "GET_MONTHS = [\n",
    "    get_month_describe(MONTHS_DF, get_month(i)[0], get_month(i)[1]).drop(\"count\")\n",
    "    for i in get_months()\n",
    "]"
   ]
  },
  {
   "cell_type": "code",
   "execution_count": 245,
   "metadata": {},
   "outputs": [
    {
     "data": {
      "text/html": [
       "<div>\n",
       "<style scoped>\n",
       "    .dataframe tbody tr th:only-of-type {\n",
       "        vertical-align: middle;\n",
       "    }\n",
       "\n",
       "    .dataframe tbody tr th {\n",
       "        vertical-align: top;\n",
       "    }\n",
       "\n",
       "    .dataframe thead th {\n",
       "        text-align: right;\n",
       "    }\n",
       "</style>\n",
       "<table border=\"1\" class=\"dataframe\">\n",
       "  <thead>\n",
       "    <tr style=\"text-align: right;\">\n",
       "      <th></th>\n",
       "      <th>PM1</th>\n",
       "      <th>PM2.5</th>\n",
       "      <th>PM10</th>\n",
       "      <th>temp</th>\n",
       "      <th>pressure</th>\n",
       "      <th>humidity</th>\n",
       "    </tr>\n",
       "  </thead>\n",
       "  <tbody>\n",
       "    <tr>\n",
       "      <th>mean</th>\n",
       "      <td>34.146313</td>\n",
       "      <td>55.352867</td>\n",
       "      <td>70.733504</td>\n",
       "      <td>5.878998</td>\n",
       "      <td>1017.503628</td>\n",
       "      <td>73.448682</td>\n",
       "    </tr>\n",
       "    <tr>\n",
       "      <th>std</th>\n",
       "      <td>9.831589</td>\n",
       "      <td>17.694102</td>\n",
       "      <td>22.289517</td>\n",
       "      <td>2.753116</td>\n",
       "      <td>11.332045</td>\n",
       "      <td>9.400380</td>\n",
       "    </tr>\n",
       "    <tr>\n",
       "      <th>min</th>\n",
       "      <td>0.000000</td>\n",
       "      <td>0.000000</td>\n",
       "      <td>0.000000</td>\n",
       "      <td>-0.990000</td>\n",
       "      <td>993.432860</td>\n",
       "      <td>29.980470</td>\n",
       "    </tr>\n",
       "    <tr>\n",
       "      <th>25%</th>\n",
       "      <td>28.000000</td>\n",
       "      <td>45.000000</td>\n",
       "      <td>58.000000</td>\n",
       "      <td>4.150000</td>\n",
       "      <td>1009.742095</td>\n",
       "      <td>69.171390</td>\n",
       "    </tr>\n",
       "    <tr>\n",
       "      <th>50%</th>\n",
       "      <td>34.000000</td>\n",
       "      <td>55.000000</td>\n",
       "      <td>72.000000</td>\n",
       "      <td>5.850000</td>\n",
       "      <td>1023.067320</td>\n",
       "      <td>75.990230</td>\n",
       "    </tr>\n",
       "    <tr>\n",
       "      <th>75%</th>\n",
       "      <td>39.000000</td>\n",
       "      <td>64.000000</td>\n",
       "      <td>85.000000</td>\n",
       "      <td>7.510000</td>\n",
       "      <td>1026.437135</td>\n",
       "      <td>79.192875</td>\n",
       "    </tr>\n",
       "    <tr>\n",
       "      <th>max</th>\n",
       "      <td>66.000000</td>\n",
       "      <td>109.000000</td>\n",
       "      <td>141.000000</td>\n",
       "      <td>17.460000</td>\n",
       "      <td>1030.739870</td>\n",
       "      <td>88.958010</td>\n",
       "    </tr>\n",
       "  </tbody>\n",
       "</table>\n",
       "</div>"
      ],
      "text/plain": [
       "            PM1       PM2.5        PM10       temp     pressure   humidity\n",
       "mean  34.146313   55.352867   70.733504   5.878998  1017.503628  73.448682\n",
       "std    9.831589   17.694102   22.289517   2.753116    11.332045   9.400380\n",
       "min    0.000000    0.000000    0.000000  -0.990000   993.432860  29.980470\n",
       "25%   28.000000   45.000000   58.000000   4.150000  1009.742095  69.171390\n",
       "50%   34.000000   55.000000   72.000000   5.850000  1023.067320  75.990230\n",
       "75%   39.000000   64.000000   85.000000   7.510000  1026.437135  79.192875\n",
       "max   66.000000  109.000000  141.000000  17.460000  1030.739870  88.958010"
      ]
     },
     "execution_count": 245,
     "metadata": {},
     "output_type": "execute_result"
    }
   ],
   "source": [
    "\"\"\"\n",
    "November\n",
    "\"\"\"\n",
    "# GET_MONTHS[0].to_csv(\"csv_month_describe/November_desc.csv\")\n",
    "GET_MONTHS[0]"
   ]
  },
  {
   "cell_type": "code",
   "execution_count": 246,
   "metadata": {},
   "outputs": [
    {
     "data": {
      "text/html": [
       "<div>\n",
       "<style scoped>\n",
       "    .dataframe tbody tr th:only-of-type {\n",
       "        vertical-align: middle;\n",
       "    }\n",
       "\n",
       "    .dataframe tbody tr th {\n",
       "        vertical-align: top;\n",
       "    }\n",
       "\n",
       "    .dataframe thead th {\n",
       "        text-align: right;\n",
       "    }\n",
       "</style>\n",
       "<table border=\"1\" class=\"dataframe\">\n",
       "  <thead>\n",
       "    <tr style=\"text-align: right;\">\n",
       "      <th></th>\n",
       "      <th>PM1</th>\n",
       "      <th>PM2.5</th>\n",
       "      <th>PM10</th>\n",
       "      <th>temp</th>\n",
       "      <th>pressure</th>\n",
       "      <th>humidity</th>\n",
       "    </tr>\n",
       "  </thead>\n",
       "  <tbody>\n",
       "    <tr>\n",
       "      <th>mean</th>\n",
       "      <td>32.466640</td>\n",
       "      <td>52.115977</td>\n",
       "      <td>66.596238</td>\n",
       "      <td>3.650943</td>\n",
       "      <td>1016.006164</td>\n",
       "      <td>73.709854</td>\n",
       "    </tr>\n",
       "    <tr>\n",
       "      <th>std</th>\n",
       "      <td>10.706405</td>\n",
       "      <td>19.055671</td>\n",
       "      <td>24.531723</td>\n",
       "      <td>4.295921</td>\n",
       "      <td>10.325076</td>\n",
       "      <td>10.551220</td>\n",
       "    </tr>\n",
       "    <tr>\n",
       "      <th>min</th>\n",
       "      <td>0.000000</td>\n",
       "      <td>0.000000</td>\n",
       "      <td>0.000000</td>\n",
       "      <td>-8.810000</td>\n",
       "      <td>993.432860</td>\n",
       "      <td>29.980470</td>\n",
       "    </tr>\n",
       "    <tr>\n",
       "      <th>25%</th>\n",
       "      <td>26.000000</td>\n",
       "      <td>40.000000</td>\n",
       "      <td>50.000000</td>\n",
       "      <td>1.290000</td>\n",
       "      <td>1008.037110</td>\n",
       "      <td>69.216800</td>\n",
       "    </tr>\n",
       "    <tr>\n",
       "      <th>50%</th>\n",
       "      <td>32.000000</td>\n",
       "      <td>52.000000</td>\n",
       "      <td>67.000000</td>\n",
       "      <td>4.450000</td>\n",
       "      <td>1017.402400</td>\n",
       "      <td>76.395510</td>\n",
       "    </tr>\n",
       "    <tr>\n",
       "      <th>75%</th>\n",
       "      <td>39.000000</td>\n",
       "      <td>63.000000</td>\n",
       "      <td>83.000000</td>\n",
       "      <td>6.410000</td>\n",
       "      <td>1024.646240</td>\n",
       "      <td>80.131840</td>\n",
       "    </tr>\n",
       "    <tr>\n",
       "      <th>max</th>\n",
       "      <td>66.000000</td>\n",
       "      <td>109.000000</td>\n",
       "      <td>147.000000</td>\n",
       "      <td>17.460000</td>\n",
       "      <td>1030.739870</td>\n",
       "      <td>96.873050</td>\n",
       "    </tr>\n",
       "  </tbody>\n",
       "</table>\n",
       "</div>"
      ],
      "text/plain": [
       "            PM1       PM2.5        PM10       temp     pressure   humidity\n",
       "mean  32.466640   52.115977   66.596238   3.650943  1016.006164  73.709854\n",
       "std   10.706405   19.055671   24.531723   4.295921    10.325076  10.551220\n",
       "min    0.000000    0.000000    0.000000  -8.810000   993.432860  29.980470\n",
       "25%   26.000000   40.000000   50.000000   1.290000  1008.037110  69.216800\n",
       "50%   32.000000   52.000000   67.000000   4.450000  1017.402400  76.395510\n",
       "75%   39.000000   63.000000   83.000000   6.410000  1024.646240  80.131840\n",
       "max   66.000000  109.000000  147.000000  17.460000  1030.739870  96.873050"
      ]
     },
     "execution_count": 246,
     "metadata": {},
     "output_type": "execute_result"
    }
   ],
   "source": [
    "\"\"\"\n",
    "December\n",
    "\"\"\"\n",
    "# GET_MONTHS[1].to_csv(\"csv_month_describe/December_desc.csv\")\n",
    "GET_MONTHS[1]"
   ]
  },
  {
   "cell_type": "code",
   "execution_count": 247,
   "metadata": {},
   "outputs": [
    {
     "data": {
      "text/html": [
       "<div>\n",
       "<style scoped>\n",
       "    .dataframe tbody tr th:only-of-type {\n",
       "        vertical-align: middle;\n",
       "    }\n",
       "\n",
       "    .dataframe tbody tr th {\n",
       "        vertical-align: top;\n",
       "    }\n",
       "\n",
       "    .dataframe thead th {\n",
       "        text-align: right;\n",
       "    }\n",
       "</style>\n",
       "<table border=\"1\" class=\"dataframe\">\n",
       "  <thead>\n",
       "    <tr style=\"text-align: right;\">\n",
       "      <th></th>\n",
       "      <th>PM1</th>\n",
       "      <th>PM2.5</th>\n",
       "      <th>PM10</th>\n",
       "      <th>temp</th>\n",
       "      <th>pressure</th>\n",
       "      <th>humidity</th>\n",
       "    </tr>\n",
       "  </thead>\n",
       "  <tbody>\n",
       "    <tr>\n",
       "      <th>mean</th>\n",
       "      <td>24.002074</td>\n",
       "      <td>37.151722</td>\n",
       "      <td>47.393789</td>\n",
       "      <td>1.976261</td>\n",
       "      <td>1022.793090</td>\n",
       "      <td>70.701555</td>\n",
       "    </tr>\n",
       "    <tr>\n",
       "      <th>std</th>\n",
       "      <td>13.043577</td>\n",
       "      <td>22.045173</td>\n",
       "      <td>28.830546</td>\n",
       "      <td>3.529657</td>\n",
       "      <td>9.806774</td>\n",
       "      <td>10.561019</td>\n",
       "    </tr>\n",
       "    <tr>\n",
       "      <th>min</th>\n",
       "      <td>0.000000</td>\n",
       "      <td>0.000000</td>\n",
       "      <td>0.000000</td>\n",
       "      <td>-6.330000</td>\n",
       "      <td>994.319580</td>\n",
       "      <td>24.324220</td>\n",
       "    </tr>\n",
       "    <tr>\n",
       "      <th>25%</th>\n",
       "      <td>14.000000</td>\n",
       "      <td>20.000000</td>\n",
       "      <td>24.000000</td>\n",
       "      <td>-0.420000</td>\n",
       "      <td>1015.684465</td>\n",
       "      <td>64.375245</td>\n",
       "    </tr>\n",
       "    <tr>\n",
       "      <th>50%</th>\n",
       "      <td>23.000000</td>\n",
       "      <td>35.000000</td>\n",
       "      <td>43.000000</td>\n",
       "      <td>1.730000</td>\n",
       "      <td>1023.645570</td>\n",
       "      <td>73.173830</td>\n",
       "    </tr>\n",
       "    <tr>\n",
       "      <th>75%</th>\n",
       "      <td>33.000000</td>\n",
       "      <td>51.000000</td>\n",
       "      <td>68.000000</td>\n",
       "      <td>3.500000</td>\n",
       "      <td>1029.995730</td>\n",
       "      <td>78.662845</td>\n",
       "    </tr>\n",
       "    <tr>\n",
       "      <th>max</th>\n",
       "      <td>66.000000</td>\n",
       "      <td>109.000000</td>\n",
       "      <td>147.000000</td>\n",
       "      <td>14.190000</td>\n",
       "      <td>1038.802860</td>\n",
       "      <td>93.930660</td>\n",
       "    </tr>\n",
       "  </tbody>\n",
       "</table>\n",
       "</div>"
      ],
      "text/plain": [
       "            PM1       PM2.5        PM10       temp     pressure   humidity\n",
       "mean  24.002074   37.151722   47.393789   1.976261  1022.793090  70.701555\n",
       "std   13.043577   22.045173   28.830546   3.529657     9.806774  10.561019\n",
       "min    0.000000    0.000000    0.000000  -6.330000   994.319580  24.324220\n",
       "25%   14.000000   20.000000   24.000000  -0.420000  1015.684465  64.375245\n",
       "50%   23.000000   35.000000   43.000000   1.730000  1023.645570  73.173830\n",
       "75%   33.000000   51.000000   68.000000   3.500000  1029.995730  78.662845\n",
       "max   66.000000  109.000000  147.000000  14.190000  1038.802860  93.930660"
      ]
     },
     "execution_count": 247,
     "metadata": {},
     "output_type": "execute_result"
    }
   ],
   "source": [
    "\"\"\"\n",
    "January\n",
    "\"\"\"\n",
    "# GET_MONTHS[2].to_csv(\"csv_month_describe/January_desc.csv\")\n",
    "GET_MONTHS[2]"
   ]
  },
  {
   "cell_type": "code",
   "execution_count": 248,
   "metadata": {},
   "outputs": [
    {
     "data": {
      "text/html": [
       "<div>\n",
       "<style scoped>\n",
       "    .dataframe tbody tr th:only-of-type {\n",
       "        vertical-align: middle;\n",
       "    }\n",
       "\n",
       "    .dataframe tbody tr th {\n",
       "        vertical-align: top;\n",
       "    }\n",
       "\n",
       "    .dataframe thead th {\n",
       "        text-align: right;\n",
       "    }\n",
       "</style>\n",
       "<table border=\"1\" class=\"dataframe\">\n",
       "  <thead>\n",
       "    <tr style=\"text-align: right;\">\n",
       "      <th></th>\n",
       "      <th>PM1</th>\n",
       "      <th>PM2.5</th>\n",
       "      <th>PM10</th>\n",
       "      <th>temp</th>\n",
       "      <th>pressure</th>\n",
       "      <th>humidity</th>\n",
       "    </tr>\n",
       "  </thead>\n",
       "  <tbody>\n",
       "    <tr>\n",
       "      <th>mean</th>\n",
       "      <td>21.311194</td>\n",
       "      <td>32.670636</td>\n",
       "      <td>41.387515</td>\n",
       "      <td>3.608424</td>\n",
       "      <td>1019.66089</td>\n",
       "      <td>66.367691</td>\n",
       "    </tr>\n",
       "    <tr>\n",
       "      <th>std</th>\n",
       "      <td>13.729451</td>\n",
       "      <td>22.953332</td>\n",
       "      <td>29.648288</td>\n",
       "      <td>3.984182</td>\n",
       "      <td>10.34954</td>\n",
       "      <td>13.139733</td>\n",
       "    </tr>\n",
       "    <tr>\n",
       "      <th>min</th>\n",
       "      <td>0.000000</td>\n",
       "      <td>0.000000</td>\n",
       "      <td>0.000000</td>\n",
       "      <td>-6.330000</td>\n",
       "      <td>990.86566</td>\n",
       "      <td>22.665040</td>\n",
       "    </tr>\n",
       "    <tr>\n",
       "      <th>25%</th>\n",
       "      <td>10.000000</td>\n",
       "      <td>13.000000</td>\n",
       "      <td>16.000000</td>\n",
       "      <td>1.010000</td>\n",
       "      <td>1012.79559</td>\n",
       "      <td>59.249755</td>\n",
       "    </tr>\n",
       "    <tr>\n",
       "      <th>50%</th>\n",
       "      <td>20.000000</td>\n",
       "      <td>30.000000</td>\n",
       "      <td>36.000000</td>\n",
       "      <td>3.010000</td>\n",
       "      <td>1019.64374</td>\n",
       "      <td>69.363280</td>\n",
       "    </tr>\n",
       "    <tr>\n",
       "      <th>75%</th>\n",
       "      <td>30.000000</td>\n",
       "      <td>47.000000</td>\n",
       "      <td>62.000000</td>\n",
       "      <td>6.062500</td>\n",
       "      <td>1027.70160</td>\n",
       "      <td>76.220700</td>\n",
       "    </tr>\n",
       "    <tr>\n",
       "      <th>max</th>\n",
       "      <td>66.000000</td>\n",
       "      <td>109.000000</td>\n",
       "      <td>148.000000</td>\n",
       "      <td>17.590000</td>\n",
       "      <td>1038.80286</td>\n",
       "      <td>100.000000</td>\n",
       "    </tr>\n",
       "  </tbody>\n",
       "</table>\n",
       "</div>"
      ],
      "text/plain": [
       "            PM1       PM2.5        PM10       temp    pressure    humidity\n",
       "mean  21.311194   32.670636   41.387515   3.608424  1019.66089   66.367691\n",
       "std   13.729451   22.953332   29.648288   3.984182    10.34954   13.139733\n",
       "min    0.000000    0.000000    0.000000  -6.330000   990.86566   22.665040\n",
       "25%   10.000000   13.000000   16.000000   1.010000  1012.79559   59.249755\n",
       "50%   20.000000   30.000000   36.000000   3.010000  1019.64374   69.363280\n",
       "75%   30.000000   47.000000   62.000000   6.062500  1027.70160   76.220700\n",
       "max   66.000000  109.000000  148.000000  17.590000  1038.80286  100.000000"
      ]
     },
     "execution_count": 248,
     "metadata": {},
     "output_type": "execute_result"
    }
   ],
   "source": [
    "\"\"\"\n",
    "February\n",
    "\"\"\"\n",
    "# GET_MONTHS[3].to_csv(\"csv_month_describe/February_desc.csv\")\n",
    "GET_MONTHS[3]"
   ]
  },
  {
   "cell_type": "code",
   "execution_count": 249,
   "metadata": {},
   "outputs": [
    {
     "data": {
      "text/html": [
       "<div>\n",
       "<style scoped>\n",
       "    .dataframe tbody tr th:only-of-type {\n",
       "        vertical-align: middle;\n",
       "    }\n",
       "\n",
       "    .dataframe tbody tr th {\n",
       "        vertical-align: top;\n",
       "    }\n",
       "\n",
       "    .dataframe thead th {\n",
       "        text-align: right;\n",
       "    }\n",
       "</style>\n",
       "<table border=\"1\" class=\"dataframe\">\n",
       "  <thead>\n",
       "    <tr style=\"text-align: right;\">\n",
       "      <th></th>\n",
       "      <th>PM1</th>\n",
       "      <th>PM2.5</th>\n",
       "      <th>PM10</th>\n",
       "      <th>temp</th>\n",
       "      <th>pressure</th>\n",
       "      <th>humidity</th>\n",
       "    </tr>\n",
       "  </thead>\n",
       "  <tbody>\n",
       "    <tr>\n",
       "      <th>mean</th>\n",
       "      <td>24.527169</td>\n",
       "      <td>37.954626</td>\n",
       "      <td>47.820949</td>\n",
       "      <td>4.248305</td>\n",
       "      <td>1022.827250</td>\n",
       "      <td>58.988447</td>\n",
       "    </tr>\n",
       "    <tr>\n",
       "      <th>std</th>\n",
       "      <td>14.454531</td>\n",
       "      <td>24.473904</td>\n",
       "      <td>31.078302</td>\n",
       "      <td>4.688817</td>\n",
       "      <td>10.815435</td>\n",
       "      <td>17.758250</td>\n",
       "    </tr>\n",
       "    <tr>\n",
       "      <th>min</th>\n",
       "      <td>0.000000</td>\n",
       "      <td>0.000000</td>\n",
       "      <td>0.000000</td>\n",
       "      <td>-6.590000</td>\n",
       "      <td>990.865660</td>\n",
       "      <td>10.034180</td>\n",
       "    </tr>\n",
       "    <tr>\n",
       "      <th>25%</th>\n",
       "      <td>13.000000</td>\n",
       "      <td>18.000000</td>\n",
       "      <td>22.000000</td>\n",
       "      <td>1.060000</td>\n",
       "      <td>1014.982820</td>\n",
       "      <td>46.171390</td>\n",
       "    </tr>\n",
       "    <tr>\n",
       "      <th>50%</th>\n",
       "      <td>24.000000</td>\n",
       "      <td>36.000000</td>\n",
       "      <td>44.000000</td>\n",
       "      <td>3.420000</td>\n",
       "      <td>1023.761470</td>\n",
       "      <td>62.790040</td>\n",
       "    </tr>\n",
       "    <tr>\n",
       "      <th>75%</th>\n",
       "      <td>34.000000</td>\n",
       "      <td>53.000000</td>\n",
       "      <td>70.000000</td>\n",
       "      <td>7.070000</td>\n",
       "      <td>1031.112855</td>\n",
       "      <td>73.533200</td>\n",
       "    </tr>\n",
       "    <tr>\n",
       "      <th>max</th>\n",
       "      <td>66.000000</td>\n",
       "      <td>109.000000</td>\n",
       "      <td>148.000000</td>\n",
       "      <td>17.590000</td>\n",
       "      <td>1044.453490</td>\n",
       "      <td>100.000000</td>\n",
       "    </tr>\n",
       "  </tbody>\n",
       "</table>\n",
       "</div>"
      ],
      "text/plain": [
       "            PM1       PM2.5        PM10       temp     pressure    humidity\n",
       "mean  24.527169   37.954626   47.820949   4.248305  1022.827250   58.988447\n",
       "std   14.454531   24.473904   31.078302   4.688817    10.815435   17.758250\n",
       "min    0.000000    0.000000    0.000000  -6.590000   990.865660   10.034180\n",
       "25%   13.000000   18.000000   22.000000   1.060000  1014.982820   46.171390\n",
       "50%   24.000000   36.000000   44.000000   3.420000  1023.761470   62.790040\n",
       "75%   34.000000   53.000000   70.000000   7.070000  1031.112855   73.533200\n",
       "max   66.000000  109.000000  148.000000  17.590000  1044.453490  100.000000"
      ]
     },
     "execution_count": 249,
     "metadata": {},
     "output_type": "execute_result"
    }
   ],
   "source": [
    "\"\"\"\n",
    "March\n",
    "\"\"\"\n",
    "# GET_MONTHS[4].to_csv(\"csv_month_describe/March_desc.csv\")\n",
    "GET_MONTHS[4]"
   ]
  },
  {
   "cell_type": "code",
   "execution_count": 253,
   "metadata": {},
   "outputs": [
    {
     "name": "stdout",
     "output_type": "stream",
     "text": [
      "November\n"
     ]
    },
    {
     "name": "stderr",
     "output_type": "stream",
     "text": [
      "C:\\Users\\admin\\AppData\\Local\\Temp\\ipykernel_2716\\2752194807.py:60: SettingWithCopyWarning:\n",
      "\n",
      "\n",
      "A value is trying to be set on a copy of a slice from a DataFrame.\n",
      "Try using .loc[row_indexer,col_indexer] = value instead\n",
      "\n",
      "See the caveats in the documentation: https://pandas.pydata.org/pandas-docs/stable/user_guide/indexing.html#returning-a-view-versus-a-copy\n",
      "\n"
     ]
    },
    {
     "data": {
      "text/plain": [
       "<Figure size 1440x1008 with 0 Axes>"
      ]
     },
     "metadata": {},
     "output_type": "display_data"
    },
    {
     "data": {
      "image/png": "[encoded data removed]",
      "text/plain": [
       "<Figure size 432x288 with 1 Axes>"
      ]
     },
     "metadata": {
      "needs_background": "light"
     },
     "output_type": "display_data"
    },
    {
     "name": "stdout",
     "output_type": "stream",
     "text": [
      "December\n"
     ]
    },
    {
     "name": "stderr",
     "output_type": "stream",
     "text": [
      "C:\\Users\\admin\\AppData\\Local\\Temp\\ipykernel_2716\\2752194807.py:60: SettingWithCopyWarning:\n",
      "\n",
      "\n",
      "A value is trying to be set on a copy of a slice from a DataFrame.\n",
      "Try using .loc[row_indexer,col_indexer] = value instead\n",
      "\n",
      "See the caveats in the documentation: https://pandas.pydata.org/pandas-docs/stable/user_guide/indexing.html#returning-a-view-versus-a-copy\n",
      "\n"
     ]
    },
    {
     "data": {
      "text/plain": [
       "<Figure size 1440x1008 with 0 Axes>"
      ]
     },
     "metadata": {},
     "output_type": "display_data"
    },
    {
     "data": {
      "image/png": "[encoded data removed]",
      "text/plain": [
       "<Figure size 432x288 with 1 Axes>"
      ]
     },
     "metadata": {
      "needs_background": "light"
     },
     "output_type": "display_data"
    },
    {
     "name": "stdout",
     "output_type": "stream",
     "text": [
      "January\n"
     ]
    },
    {
     "name": "stderr",
     "output_type": "stream",
     "text": [
      "C:\\Users\\admin\\AppData\\Local\\Temp\\ipykernel_2716\\2752194807.py:60: SettingWithCopyWarning:\n",
      "\n",
      "\n",
      "A value is trying to be set on a copy of a slice from a DataFrame.\n",
      "Try using .loc[row_indexer,col_indexer] = value instead\n",
      "\n",
      "See the caveats in the documentation: https://pandas.pydata.org/pandas-docs/stable/user_guide/indexing.html#returning-a-view-versus-a-copy\n",
      "\n"
     ]
    },
    {
     "data": {
      "text/plain": [
       "<Figure size 1440x1008 with 0 Axes>"
      ]
     },
     "metadata": {},
     "output_type": "display_data"
    },
    {
     "data": {
      "image/png": "[encoded data removed]",
      "text/plain": [
       "<Figure size 432x288 with 1 Axes>"
      ]
     },
     "metadata": {
      "needs_background": "light"
     },
     "output_type": "display_data"
    },
    {
     "name": "stdout",
     "output_type": "stream",
     "text": [
      "February\n"
     ]
    },
    {
     "name": "stderr",
     "output_type": "stream",
     "text": [
      "C:\\Users\\admin\\AppData\\Local\\Temp\\ipykernel_2716\\2752194807.py:60: SettingWithCopyWarning:\n",
      "\n",
      "\n",
      "A value is trying to be set on a copy of a slice from a DataFrame.\n",
      "Try using .loc[row_indexer,col_indexer] = value instead\n",
      "\n",
      "See the caveats in the documentation: https://pandas.pydata.org/pandas-docs/stable/user_guide/indexing.html#returning-a-view-versus-a-copy\n",
      "\n"
     ]
    },
    {
     "data": {
      "text/plain": [
       "<Figure size 1440x1008 with 0 Axes>"
      ]
     },
     "metadata": {},
     "output_type": "display_data"
    },
    {
     "data": {
      "image/png": "[encoded data removed]",
      "text/plain": [
       "<Figure size 432x288 with 1 Axes>"
      ]
     },
     "metadata": {
      "needs_background": "light"
     },
     "output_type": "display_data"
    },
    {
     "name": "stdout",
     "output_type": "stream",
     "text": [
      "March\n"
     ]
    },
    {
     "name": "stderr",
     "output_type": "stream",
     "text": [
      "C:\\Users\\admin\\AppData\\Local\\Temp\\ipykernel_2716\\2752194807.py:60: SettingWithCopyWarning:\n",
      "\n",
      "\n",
      "A value is trying to be set on a copy of a slice from a DataFrame.\n",
      "Try using .loc[row_indexer,col_indexer] = value instead\n",
      "\n",
      "See the caveats in the documentation: https://pandas.pydata.org/pandas-docs/stable/user_guide/indexing.html#returning-a-view-versus-a-copy\n",
      "\n"
     ]
    },
    {
     "data": {
      "text/plain": [
       "<Figure size 1440x1008 with 0 Axes>"
      ]
     },
     "metadata": {},
     "output_type": "display_data"
    },
    {
     "data": {
      "image/png": "[encoded data removed]",
      "text/plain": [
       "<Figure size 432x288 with 1 Axes>"
      ]
     },
     "metadata": {
      "needs_background": "light"
     },
     "output_type": "display_data"
    }
   ],
   "source": [
    "for i in get_months():\n",
    "    print(i)\n",
    "    plot_data(MONTHS_DF, get_month(i)[0], get_month(i)[1], [\"pressure\",\"temp\",\"humidity\"])"
   ]
  },
  {
   "cell_type": "code",
   "execution_count": 251,
   "metadata": {},
   "outputs": [],
   "source": [
    "# for i in get_months():\n",
    "#     print(i)\n",
    "#     sub_plot(MONTHS_DF, get_month(i)[0], get_month(i)[1])"
   ]
  },
  {
   "cell_type": "code",
   "execution_count": null,
   "metadata": {},
   "outputs": [],
   "source": []
  },
  {
   "cell_type": "code",
   "execution_count": null,
   "metadata": {},
   "outputs": [],
   "source": []
  },
  {
   "cell_type": "code",
   "execution_count": null,
   "metadata": {},
   "outputs": [],
   "source": []
  }
 ],
 "metadata": {
  "kernelspec": {
   "display_name": "Python 3.9.12 ('tensorflow')",
   "language": "python",
   "name": "python3"
  },
  "language_info": {
   "codemirror_mode": {
    "name": "ipython",
    "version": 3
   },
   "file_extension": ".py",
   "mimetype": "text/x-python",
   "name": "python",
   "nbconvert_exporter": "python",
   "pygments_lexer": "ipython3",
   "version": "3.9.12"
  },
  "orig_nbformat": 4,
  "vscode": {
   "interpreter": {
    "hash": "21818b7b27c2843a5005ef72aa3b419c27c534ef061e8ca61103e349b5af383a"
   }
  }
 },
 "nbformat": 4,
 "nbformat_minor": 2
}
