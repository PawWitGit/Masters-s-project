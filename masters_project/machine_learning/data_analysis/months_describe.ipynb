{
 "cells": [
  {
   "cell_type": "markdown",
   "metadata": {},
   "source": [
    "Month describe mean, std etc. values"
   ]
  },
  {
   "cell_type": "code",
   "execution_count": 79,
   "metadata": {},
   "outputs": [],
   "source": [
    "from asyncio.log import logger\n",
    "from datetime import datetime\n",
    "from tkinter import messagebox\n",
    "import pandas as pd\n",
    "import matplotlib as plt\n",
    "import matplotlib.pyplot as plt\n",
    "import matplotlib.pylab as plt\n",
    "import logging\n",
    "import time\n",
    "import calendar\n",
    "import string\n",
    "import tkinter as tk\n",
    "from numpy import isin\n",
    "import numpy as np"
   ]
  },
  {
   "cell_type": "code",
   "execution_count": 80,
   "metadata": {},
   "outputs": [
    {
     "data": {
      "text/plain": [
       "0              1\n",
       "1              2\n",
       "2              3\n",
       "3              4\n",
       "4              5\n",
       "           ...  \n",
       "260378    260389\n",
       "260379    260390\n",
       "260380    260391\n",
       "260381    260392\n",
       "260382    260393\n",
       "Name: entry_id, Length: 260383, dtype: int64"
      ]
     },
     "execution_count": 80,
     "metadata": {},
     "output_type": "execute_result"
    }
   ],
   "source": [
    "MONTHS_DF = pd.read_csv(\n",
    "    \"C:/Users/admin/Masters-s-project/masters_project/machine_learning/data_analysis/air_pollution_smog_clear.csv\"\n",
    ")\n",
    "MONTHS_DF.pop(\"entry_id\")"
   ]
  },
  {
   "cell_type": "code",
   "execution_count": 81,
   "metadata": {},
   "outputs": [],
   "source": [
    "# all months desribe\n",
    "DESCRIBE_DF = MONTHS_DF.describe()"
   ]
  },
  {
   "cell_type": "code",
   "execution_count": 82,
   "metadata": {},
   "outputs": [],
   "source": [
    "# Months describe() functions\n",
    "\n",
    "\n",
    "def get_month(month: str):\n",
    "\n",
    "    if month == \"November\":\n",
    "        start_date = \"13/11/21\"\n",
    "        end_date = f\"{calendar.monthrange(2021, 11)[1]}/11/21\"\n",
    "        end_date = \"14/11/21\"\n",
    "\n",
    "    elif month == \"December\":\n",
    "        start_date = \"01/12/21\"\n",
    "        end_date = f\"{calendar.monthrange(2021, 12)[1]}/12/21\"\n",
    "\n",
    "    elif month == \"January\":\n",
    "        start_date = \"01/01/22\"\n",
    "        end_date = f\"{calendar.monthrange(2022, 1)[1]}/01/22\"\n",
    "\n",
    "    elif month == \"February\":\n",
    "        start_date = \"01/02/2022\"\n",
    "        end_date = f\"{calendar.monthrange(2022, 2)[1]}/02/22\"\n",
    "\n",
    "    elif month == \"March\":\n",
    "        start_date = \"01/03/2022\"\n",
    "        end_date = f\"{calendar.monthrange(2022, 3)[1]}/03/22\"\n",
    "\n",
    "    return [start_date, end_date]\n",
    "\n",
    "\n",
    "def get_months() -> list:\n",
    "    months = [\"November\", \"December\", \"January\", \"February\", \"March\"]\n",
    "    return months\n",
    "\n",
    "\n",
    "def get_month_describe(\n",
    "    df: pd.DataFrame, start_date: str, end_date: str\n",
    ") -> pd.DataFrame:\n",
    "\n",
    "    df[\"date\"] = pd.to_datetime(df[\"date\"])\n",
    "    new_df = (df[\"date\"] >= start_date) & (df[\"date\"] <= end_date)\n",
    "    df1 = df.loc[new_df]\n",
    "    df2 = df1.set_index(\"date\")\n",
    "    print()\n",
    "\n",
    "    return df2.describe()\n",
    "\n",
    "\n",
    "def plot_data(df: pd.DataFrame, start_date: str, end_date: str) -> None:\n",
    "\n",
    "    df[\"date\"] = pd.to_datetime(df[\"date\"])\n",
    "    new_df = (df[\"date\"] >= start_date) & (df[\"date\"] <= end_date)\n",
    "    df2 = df.loc[new_df]\n",
    "    plt.figure(figsize=(20, 14))\n",
    "    df2.plot(x=\"date\", y=[\"PM1\", \"PM2.5\"])\n",
    "    plt.xlabel(\"Date -->\", fontsize=14, color=\"green\")\n",
    "    plt.ylabel(\"Values -->\", fontsize=14, color=\"red\")\n",
    "    plt.show()"
   ]
  },
  {
   "cell_type": "code",
   "execution_count": 83,
   "metadata": {},
   "outputs": [
    {
     "name": "stdout",
     "output_type": "stream",
     "text": [
      "\n",
      "\n",
      "\n",
      "\n",
      "\n"
     ]
    }
   ],
   "source": [
    "\"\"\"\n",
    "MONTHS DATAFRAMES\n",
    "\"\"\"\n",
    "NOVEMBER_DF = pd.DataFrame()\n",
    "DECEMBER_DF = pd.DataFrame()\n",
    "JANUARY_DF = pd.DataFrame()\n",
    "FEBRUARY_DF = pd.DataFrame()\n",
    "MARCH_DF = pd.DataFrame()\n",
    "MONTHS = [NOVEMBER_DF, DECEMBER_DF, JANUARY_DF, FEBRUARY_DF, MARCH_DF]\n",
    "df_drops = [\"count\", \"std\" \"25%\", \"50%\", \"75%\"]\n",
    "df_drops_len = len(df_drops)\n",
    "GET_MONTHS = [\n",
    "    get_month_describe(MONTHS_DF, get_month(i)[0], get_month(i)[1]).drop(\"count\")\n",
    "    for i in get_months()\n",
    "]"
   ]
  },
  {
   "cell_type": "code",
   "execution_count": 84,
   "metadata": {},
   "outputs": [
    {
     "data": {
      "text/html": [
       "<div>\n",
       "<style scoped>\n",
       "    .dataframe tbody tr th:only-of-type {\n",
       "        vertical-align: middle;\n",
       "    }\n",
       "\n",
       "    .dataframe tbody tr th {\n",
       "        vertical-align: top;\n",
       "    }\n",
       "\n",
       "    .dataframe thead th {\n",
       "        text-align: right;\n",
       "    }\n",
       "</style>\n",
       "<table border=\"1\" class=\"dataframe\">\n",
       "  <thead>\n",
       "    <tr style=\"text-align: right;\">\n",
       "      <th></th>\n",
       "      <th>PM1</th>\n",
       "      <th>PM2.5</th>\n",
       "      <th>PM10</th>\n",
       "      <th>temp</th>\n",
       "      <th>pressure</th>\n",
       "      <th>humidity</th>\n",
       "    </tr>\n",
       "  </thead>\n",
       "  <tbody>\n",
       "    <tr>\n",
       "      <th>mean</th>\n",
       "      <td>49.277858</td>\n",
       "      <td>82.463097</td>\n",
       "      <td>101.574530</td>\n",
       "      <td>8.139045</td>\n",
       "      <td>1011.955031</td>\n",
       "      <td>64.824225</td>\n",
       "    </tr>\n",
       "    <tr>\n",
       "      <th>std</th>\n",
       "      <td>13.703837</td>\n",
       "      <td>24.998429</td>\n",
       "      <td>26.902532</td>\n",
       "      <td>14.002077</td>\n",
       "      <td>95.703720</td>\n",
       "      <td>8.899436</td>\n",
       "    </tr>\n",
       "    <tr>\n",
       "      <th>min</th>\n",
       "      <td>0.000000</td>\n",
       "      <td>0.000000</td>\n",
       "      <td>0.000000</td>\n",
       "      <td>3.880000</td>\n",
       "      <td>-241.325000</td>\n",
       "      <td>30.946290</td>\n",
       "    </tr>\n",
       "    <tr>\n",
       "      <th>25%</th>\n",
       "      <td>39.000000</td>\n",
       "      <td>63.000000</td>\n",
       "      <td>83.000000</td>\n",
       "      <td>4.810000</td>\n",
       "      <td>1018.392060</td>\n",
       "      <td>58.098145</td>\n",
       "    </tr>\n",
       "    <tr>\n",
       "      <th>50%</th>\n",
       "      <td>44.000000</td>\n",
       "      <td>75.000000</td>\n",
       "      <td>94.000000</td>\n",
       "      <td>5.930000</td>\n",
       "      <td>1019.437190</td>\n",
       "      <td>65.873050</td>\n",
       "    </tr>\n",
       "    <tr>\n",
       "      <th>75%</th>\n",
       "      <td>63.000000</td>\n",
       "      <td>104.000000</td>\n",
       "      <td>119.000000</td>\n",
       "      <td>9.125000</td>\n",
       "      <td>1019.781040</td>\n",
       "      <td>72.398925</td>\n",
       "    </tr>\n",
       "    <tr>\n",
       "      <th>max</th>\n",
       "      <td>91.000000</td>\n",
       "      <td>170.000000</td>\n",
       "      <td>202.000000</td>\n",
       "      <td>187.140000</td>\n",
       "      <td>1020.789430</td>\n",
       "      <td>100.000000</td>\n",
       "    </tr>\n",
       "  </tbody>\n",
       "</table>\n",
       "</div>"
      ],
      "text/plain": [
       "            PM1       PM2.5        PM10        temp     pressure    humidity\n",
       "mean  49.277858   82.463097  101.574530    8.139045  1011.955031   64.824225\n",
       "std   13.703837   24.998429   26.902532   14.002077    95.703720    8.899436\n",
       "min    0.000000    0.000000    0.000000    3.880000  -241.325000   30.946290\n",
       "25%   39.000000   63.000000   83.000000    4.810000  1018.392060   58.098145\n",
       "50%   44.000000   75.000000   94.000000    5.930000  1019.437190   65.873050\n",
       "75%   63.000000  104.000000  119.000000    9.125000  1019.781040   72.398925\n",
       "max   91.000000  170.000000  202.000000  187.140000  1020.789430  100.000000"
      ]
     },
     "execution_count": 84,
     "metadata": {},
     "output_type": "execute_result"
    }
   ],
   "source": [
    "\"\"\"\n",
    "November\n",
    "\"\"\"\n",
    "# GET_MONTHS[0].to_csv(\"csv_month_describe/November_desc.csv\")\n",
    "GET_MONTHS[0]"
   ]
  },
  {
   "cell_type": "code",
   "execution_count": 85,
   "metadata": {},
   "outputs": [
    {
     "data": {
      "text/html": [
       "<div>\n",
       "<style scoped>\n",
       "    .dataframe tbody tr th:only-of-type {\n",
       "        vertical-align: middle;\n",
       "    }\n",
       "\n",
       "    .dataframe tbody tr th {\n",
       "        vertical-align: top;\n",
       "    }\n",
       "\n",
       "    .dataframe thead th {\n",
       "        text-align: right;\n",
       "    }\n",
       "</style>\n",
       "<table border=\"1\" class=\"dataframe\">\n",
       "  <thead>\n",
       "    <tr style=\"text-align: right;\">\n",
       "      <th></th>\n",
       "      <th>PM1</th>\n",
       "      <th>PM2.5</th>\n",
       "      <th>PM10</th>\n",
       "      <th>temp</th>\n",
       "      <th>pressure</th>\n",
       "      <th>humidity</th>\n",
       "    </tr>\n",
       "  </thead>\n",
       "  <tbody>\n",
       "    <tr>\n",
       "      <th>mean</th>\n",
       "      <td>35.875725</td>\n",
       "      <td>58.835918</td>\n",
       "      <td>74.476098</td>\n",
       "      <td>8.345616</td>\n",
       "      <td>979.279155</td>\n",
       "      <td>74.478534</td>\n",
       "    </tr>\n",
       "    <tr>\n",
       "      <th>std</th>\n",
       "      <td>17.666028</td>\n",
       "      <td>33.610636</td>\n",
       "      <td>41.447102</td>\n",
       "      <td>31.448645</td>\n",
       "      <td>212.250698</td>\n",
       "      <td>11.137874</td>\n",
       "    </tr>\n",
       "    <tr>\n",
       "      <th>min</th>\n",
       "      <td>0.000000</td>\n",
       "      <td>0.000000</td>\n",
       "      <td>0.000000</td>\n",
       "      <td>-11.130000</td>\n",
       "      <td>-242.967190</td>\n",
       "      <td>0.000000</td>\n",
       "    </tr>\n",
       "    <tr>\n",
       "      <th>25%</th>\n",
       "      <td>26.000000</td>\n",
       "      <td>40.000000</td>\n",
       "      <td>50.000000</td>\n",
       "      <td>0.620000</td>\n",
       "      <td>1007.407807</td>\n",
       "      <td>69.762938</td>\n",
       "    </tr>\n",
       "    <tr>\n",
       "      <th>50%</th>\n",
       "      <td>33.000000</td>\n",
       "      <td>52.000000</td>\n",
       "      <td>69.000000</td>\n",
       "      <td>4.000000</td>\n",
       "      <td>1016.788055</td>\n",
       "      <td>76.425290</td>\n",
       "    </tr>\n",
       "    <tr>\n",
       "      <th>75%</th>\n",
       "      <td>41.000000</td>\n",
       "      <td>66.000000</td>\n",
       "      <td>87.000000</td>\n",
       "      <td>6.410000</td>\n",
       "      <td>1024.485842</td>\n",
       "      <td>80.371335</td>\n",
       "    </tr>\n",
       "    <tr>\n",
       "      <th>max</th>\n",
       "      <td>224.000000</td>\n",
       "      <td>581.000000</td>\n",
       "      <td>854.000000</td>\n",
       "      <td>187.140000</td>\n",
       "      <td>1307.648930</td>\n",
       "      <td>100.000000</td>\n",
       "    </tr>\n",
       "  </tbody>\n",
       "</table>\n",
       "</div>"
      ],
      "text/plain": [
       "             PM1       PM2.5        PM10        temp     pressure    humidity\n",
       "mean   35.875725   58.835918   74.476098    8.345616   979.279155   74.478534\n",
       "std    17.666028   33.610636   41.447102   31.448645   212.250698   11.137874\n",
       "min     0.000000    0.000000    0.000000  -11.130000  -242.967190    0.000000\n",
       "25%    26.000000   40.000000   50.000000    0.620000  1007.407807   69.762938\n",
       "50%    33.000000   52.000000   69.000000    4.000000  1016.788055   76.425290\n",
       "75%    41.000000   66.000000   87.000000    6.410000  1024.485842   80.371335\n",
       "max   224.000000  581.000000  854.000000  187.140000  1307.648930  100.000000"
      ]
     },
     "execution_count": 85,
     "metadata": {},
     "output_type": "execute_result"
    }
   ],
   "source": [
    "\"\"\"\n",
    "December\n",
    "\"\"\"\n",
    "# GET_MONTHS[1].to_csv(\"csv_month_describe/December_desc.csv\")\n",
    "GET_MONTHS[1]"
   ]
  },
  {
   "cell_type": "code",
   "execution_count": 86,
   "metadata": {},
   "outputs": [
    {
     "data": {
      "text/html": [
       "<div>\n",
       "<style scoped>\n",
       "    .dataframe tbody tr th:only-of-type {\n",
       "        vertical-align: middle;\n",
       "    }\n",
       "\n",
       "    .dataframe tbody tr th {\n",
       "        vertical-align: top;\n",
       "    }\n",
       "\n",
       "    .dataframe thead th {\n",
       "        text-align: right;\n",
       "    }\n",
       "</style>\n",
       "<table border=\"1\" class=\"dataframe\">\n",
       "  <thead>\n",
       "    <tr style=\"text-align: right;\">\n",
       "      <th></th>\n",
       "      <th>PM1</th>\n",
       "      <th>PM2.5</th>\n",
       "      <th>PM10</th>\n",
       "      <th>temp</th>\n",
       "      <th>pressure</th>\n",
       "      <th>humidity</th>\n",
       "    </tr>\n",
       "  </thead>\n",
       "  <tbody>\n",
       "    <tr>\n",
       "      <th>mean</th>\n",
       "      <td>25.322752</td>\n",
       "      <td>39.652647</td>\n",
       "      <td>50.399491</td>\n",
       "      <td>1.897836</td>\n",
       "      <td>1022.977023</td>\n",
       "      <td>70.757397</td>\n",
       "    </tr>\n",
       "    <tr>\n",
       "      <th>std</th>\n",
       "      <td>15.413274</td>\n",
       "      <td>27.086454</td>\n",
       "      <td>34.511903</td>\n",
       "      <td>3.534200</td>\n",
       "      <td>9.827076</td>\n",
       "      <td>10.490680</td>\n",
       "    </tr>\n",
       "    <tr>\n",
       "      <th>min</th>\n",
       "      <td>0.000000</td>\n",
       "      <td>0.000000</td>\n",
       "      <td>0.000000</td>\n",
       "      <td>-6.330000</td>\n",
       "      <td>994.319580</td>\n",
       "      <td>24.324220</td>\n",
       "    </tr>\n",
       "    <tr>\n",
       "      <th>25%</th>\n",
       "      <td>14.000000</td>\n",
       "      <td>20.000000</td>\n",
       "      <td>24.000000</td>\n",
       "      <td>-0.540000</td>\n",
       "      <td>1015.825560</td>\n",
       "      <td>64.586910</td>\n",
       "    </tr>\n",
       "    <tr>\n",
       "      <th>50%</th>\n",
       "      <td>24.000000</td>\n",
       "      <td>36.000000</td>\n",
       "      <td>45.000000</td>\n",
       "      <td>1.620000</td>\n",
       "      <td>1024.031620</td>\n",
       "      <td>73.167970</td>\n",
       "    </tr>\n",
       "    <tr>\n",
       "      <th>75%</th>\n",
       "      <td>34.000000</td>\n",
       "      <td>53.000000</td>\n",
       "      <td>70.000000</td>\n",
       "      <td>3.430000</td>\n",
       "      <td>1030.290040</td>\n",
       "      <td>78.658200</td>\n",
       "    </tr>\n",
       "    <tr>\n",
       "      <th>max</th>\n",
       "      <td>141.000000</td>\n",
       "      <td>332.000000</td>\n",
       "      <td>450.000000</td>\n",
       "      <td>14.190000</td>\n",
       "      <td>1038.802860</td>\n",
       "      <td>93.930660</td>\n",
       "    </tr>\n",
       "  </tbody>\n",
       "</table>\n",
       "</div>"
      ],
      "text/plain": [
       "             PM1       PM2.5        PM10       temp     pressure   humidity\n",
       "mean   25.322752   39.652647   50.399491   1.897836  1022.977023  70.757397\n",
       "std    15.413274   27.086454   34.511903   3.534200     9.827076  10.490680\n",
       "min     0.000000    0.000000    0.000000  -6.330000   994.319580  24.324220\n",
       "25%    14.000000   20.000000   24.000000  -0.540000  1015.825560  64.586910\n",
       "50%    24.000000   36.000000   45.000000   1.620000  1024.031620  73.167970\n",
       "75%    34.000000   53.000000   70.000000   3.430000  1030.290040  78.658200\n",
       "max   141.000000  332.000000  450.000000  14.190000  1038.802860  93.930660"
      ]
     },
     "execution_count": 86,
     "metadata": {},
     "output_type": "execute_result"
    }
   ],
   "source": [
    "\"\"\"\n",
    "January\n",
    "\"\"\"\n",
    "# GET_MONTHS[2].to_csv(\"csv_month_describe/January_desc.csv\")\n",
    "GET_MONTHS[2]"
   ]
  },
  {
   "cell_type": "code",
   "execution_count": 87,
   "metadata": {},
   "outputs": [
    {
     "data": {
      "text/html": [
       "<div>\n",
       "<style scoped>\n",
       "    .dataframe tbody tr th:only-of-type {\n",
       "        vertical-align: middle;\n",
       "    }\n",
       "\n",
       "    .dataframe tbody tr th {\n",
       "        vertical-align: top;\n",
       "    }\n",
       "\n",
       "    .dataframe thead th {\n",
       "        text-align: right;\n",
       "    }\n",
       "</style>\n",
       "<table border=\"1\" class=\"dataframe\">\n",
       "  <thead>\n",
       "    <tr style=\"text-align: right;\">\n",
       "      <th></th>\n",
       "      <th>PM1</th>\n",
       "      <th>PM2.5</th>\n",
       "      <th>PM10</th>\n",
       "      <th>temp</th>\n",
       "      <th>pressure</th>\n",
       "      <th>humidity</th>\n",
       "    </tr>\n",
       "  </thead>\n",
       "  <tbody>\n",
       "    <tr>\n",
       "      <th>mean</th>\n",
       "      <td>22.593493</td>\n",
       "      <td>35.090585</td>\n",
       "      <td>44.280966</td>\n",
       "      <td>3.807126</td>\n",
       "      <td>1018.125676</td>\n",
       "      <td>66.426695</td>\n",
       "    </tr>\n",
       "    <tr>\n",
       "      <th>std</th>\n",
       "      <td>16.053350</td>\n",
       "      <td>27.886061</td>\n",
       "      <td>35.251755</td>\n",
       "      <td>7.789030</td>\n",
       "      <td>47.015219</td>\n",
       "      <td>13.234072</td>\n",
       "    </tr>\n",
       "    <tr>\n",
       "      <th>min</th>\n",
       "      <td>0.000000</td>\n",
       "      <td>0.000000</td>\n",
       "      <td>0.000000</td>\n",
       "      <td>-142.590000</td>\n",
       "      <td>-242.100950</td>\n",
       "      <td>0.000000</td>\n",
       "    </tr>\n",
       "    <tr>\n",
       "      <th>25%</th>\n",
       "      <td>10.000000</td>\n",
       "      <td>14.000000</td>\n",
       "      <td>16.750000</td>\n",
       "      <td>0.940000</td>\n",
       "      <td>1012.832120</td>\n",
       "      <td>59.461910</td>\n",
       "    </tr>\n",
       "    <tr>\n",
       "      <th>50%</th>\n",
       "      <td>21.000000</td>\n",
       "      <td>31.000000</td>\n",
       "      <td>37.000000</td>\n",
       "      <td>2.960000</td>\n",
       "      <td>1019.751615</td>\n",
       "      <td>69.452150</td>\n",
       "    </tr>\n",
       "    <tr>\n",
       "      <th>75%</th>\n",
       "      <td>31.000000</td>\n",
       "      <td>49.000000</td>\n",
       "      <td>64.000000</td>\n",
       "      <td>6.040000</td>\n",
       "      <td>1028.043090</td>\n",
       "      <td>76.193360</td>\n",
       "    </tr>\n",
       "    <tr>\n",
       "      <th>max</th>\n",
       "      <td>224.000000</td>\n",
       "      <td>490.000000</td>\n",
       "      <td>608.000000</td>\n",
       "      <td>187.140000</td>\n",
       "      <td>1303.550170</td>\n",
       "      <td>100.000000</td>\n",
       "    </tr>\n",
       "  </tbody>\n",
       "</table>\n",
       "</div>"
      ],
      "text/plain": [
       "             PM1       PM2.5        PM10        temp     pressure    humidity\n",
       "mean   22.593493   35.090585   44.280966    3.807126  1018.125676   66.426695\n",
       "std    16.053350   27.886061   35.251755    7.789030    47.015219   13.234072\n",
       "min     0.000000    0.000000    0.000000 -142.590000  -242.100950    0.000000\n",
       "25%    10.000000   14.000000   16.750000    0.940000  1012.832120   59.461910\n",
       "50%    21.000000   31.000000   37.000000    2.960000  1019.751615   69.452150\n",
       "75%    31.000000   49.000000   64.000000    6.040000  1028.043090   76.193360\n",
       "max   224.000000  490.000000  608.000000  187.140000  1303.550170  100.000000"
      ]
     },
     "execution_count": 87,
     "metadata": {},
     "output_type": "execute_result"
    }
   ],
   "source": [
    "\"\"\"\n",
    "February\n",
    "\"\"\"\n",
    "# GET_MONTHS[3].to_csv(\"csv_month_describe/February_desc.csv\")\n",
    "GET_MONTHS[3]"
   ]
  },
  {
   "cell_type": "code",
   "execution_count": 88,
   "metadata": {},
   "outputs": [
    {
     "data": {
      "text/html": [
       "<div>\n",
       "<style scoped>\n",
       "    .dataframe tbody tr th:only-of-type {\n",
       "        vertical-align: middle;\n",
       "    }\n",
       "\n",
       "    .dataframe tbody tr th {\n",
       "        vertical-align: top;\n",
       "    }\n",
       "\n",
       "    .dataframe thead th {\n",
       "        text-align: right;\n",
       "    }\n",
       "</style>\n",
       "<table border=\"1\" class=\"dataframe\">\n",
       "  <thead>\n",
       "    <tr style=\"text-align: right;\">\n",
       "      <th></th>\n",
       "      <th>PM1</th>\n",
       "      <th>PM2.5</th>\n",
       "      <th>PM10</th>\n",
       "      <th>temp</th>\n",
       "      <th>pressure</th>\n",
       "      <th>humidity</th>\n",
       "    </tr>\n",
       "  </thead>\n",
       "  <tbody>\n",
       "    <tr>\n",
       "      <th>mean</th>\n",
       "      <td>26.472907</td>\n",
       "      <td>41.577167</td>\n",
       "      <td>52.006770</td>\n",
       "      <td>5.247507</td>\n",
       "      <td>1022.142579</td>\n",
       "      <td>57.048657</td>\n",
       "    </tr>\n",
       "    <tr>\n",
       "      <th>std</th>\n",
       "      <td>17.696018</td>\n",
       "      <td>31.703597</td>\n",
       "      <td>39.567752</td>\n",
       "      <td>8.110835</td>\n",
       "      <td>38.028297</td>\n",
       "      <td>19.392108</td>\n",
       "    </tr>\n",
       "    <tr>\n",
       "      <th>min</th>\n",
       "      <td>0.000000</td>\n",
       "      <td>0.000000</td>\n",
       "      <td>0.000000</td>\n",
       "      <td>-142.590000</td>\n",
       "      <td>-242.100950</td>\n",
       "      <td>0.000000</td>\n",
       "    </tr>\n",
       "    <tr>\n",
       "      <th>25%</th>\n",
       "      <td>14.000000</td>\n",
       "      <td>19.000000</td>\n",
       "      <td>23.000000</td>\n",
       "      <td>1.080000</td>\n",
       "      <td>1015.510495</td>\n",
       "      <td>42.671880</td>\n",
       "    </tr>\n",
       "    <tr>\n",
       "      <th>50%</th>\n",
       "      <td>24.000000</td>\n",
       "      <td>36.000000</td>\n",
       "      <td>45.000000</td>\n",
       "      <td>3.660000</td>\n",
       "      <td>1024.302610</td>\n",
       "      <td>61.595700</td>\n",
       "    </tr>\n",
       "    <tr>\n",
       "      <th>75%</th>\n",
       "      <td>35.000000</td>\n",
       "      <td>55.000000</td>\n",
       "      <td>72.000000</td>\n",
       "      <td>7.840000</td>\n",
       "      <td>1031.250490</td>\n",
       "      <td>73.004395</td>\n",
       "    </tr>\n",
       "    <tr>\n",
       "      <th>max</th>\n",
       "      <td>286.000000</td>\n",
       "      <td>702.000000</td>\n",
       "      <td>948.000000</td>\n",
       "      <td>187.140000</td>\n",
       "      <td>1303.550170</td>\n",
       "      <td>100.000000</td>\n",
       "    </tr>\n",
       "  </tbody>\n",
       "</table>\n",
       "</div>"
      ],
      "text/plain": [
       "             PM1       PM2.5        PM10        temp     pressure    humidity\n",
       "mean   26.472907   41.577167   52.006770    5.247507  1022.142579   57.048657\n",
       "std    17.696018   31.703597   39.567752    8.110835    38.028297   19.392108\n",
       "min     0.000000    0.000000    0.000000 -142.590000  -242.100950    0.000000\n",
       "25%    14.000000   19.000000   23.000000    1.080000  1015.510495   42.671880\n",
       "50%    24.000000   36.000000   45.000000    3.660000  1024.302610   61.595700\n",
       "75%    35.000000   55.000000   72.000000    7.840000  1031.250490   73.004395\n",
       "max   286.000000  702.000000  948.000000  187.140000  1303.550170  100.000000"
      ]
     },
     "execution_count": 88,
     "metadata": {},
     "output_type": "execute_result"
    }
   ],
   "source": [
    "\"\"\"\n",
    "March\n",
    "\"\"\"\n",
    "# GET_MONTHS[4].to_csv(\"csv_month_describe/March_desc.csv\")\n",
    "GET_MONTHS[4]"
   ]
  },
  {
   "cell_type": "code",
   "execution_count": 89,
   "metadata": {},
   "outputs": [
    {
     "name": "stdout",
     "output_type": "stream",
     "text": [
      "November\n"
     ]
    },
    {
     "data": {
      "text/plain": [
       "<Figure size 1440x1008 with 0 Axes>"
      ]
     },
     "metadata": {},
     "output_type": "display_data"
    },
    {
     "data": {
      "image/png": "[encoded data removed]",
      "text/plain": [
       "<Figure size 432x288 with 1 Axes>"
      ]
     },
     "metadata": {
      "needs_background": "light"
     },
     "output_type": "display_data"
    },
    {
     "name": "stdout",
     "output_type": "stream",
     "text": [
      "December\n"
     ]
    },
    {
     "data": {
      "text/plain": [
       "<Figure size 1440x1008 with 0 Axes>"
      ]
     },
     "metadata": {},
     "output_type": "display_data"
    },
    {
     "data": {
      "image/png": "[encoded data removed]",
      "text/plain": [
       "<Figure size 432x288 with 1 Axes>"
      ]
     },
     "metadata": {
      "needs_background": "light"
     },
     "output_type": "display_data"
    },
    {
     "name": "stdout",
     "output_type": "stream",
     "text": [
      "January\n"
     ]
    },
    {
     "data": {
      "text/plain": [
       "<Figure size 1440x1008 with 0 Axes>"
      ]
     },
     "metadata": {},
     "output_type": "display_data"
    },
    {
     "data": {
      "image/png": "[encoded data removed]",
      "text/plain": [
       "<Figure size 432x288 with 1 Axes>"
      ]
     },
     "metadata": {
      "needs_background": "light"
     },
     "output_type": "display_data"
    },
    {
     "name": "stdout",
     "output_type": "stream",
     "text": [
      "February\n"
     ]
    },
    {
     "data": {
      "text/plain": [
       "<Figure size 1440x1008 with 0 Axes>"
      ]
     },
     "metadata": {},
     "output_type": "display_data"
    },
    {
     "data": {
      "image/png": "[encoded data removed]",
      "text/plain": [
       "<Figure size 432x288 with 1 Axes>"
      ]
     },
     "metadata": {
      "needs_background": "light"
     },
     "output_type": "display_data"
    },
    {
     "name": "stdout",
     "output_type": "stream",
     "text": [
      "March\n"
     ]
    },
    {
     "data": {
      "text/plain": [
       "<Figure size 1440x1008 with 0 Axes>"
      ]
     },
     "metadata": {},
     "output_type": "display_data"
    },
    {
     "data": {
      "image/png": "[encoded data removed]",
      "text/plain": [
       "<Figure size 432x288 with 1 Axes>"
      ]
     },
     "metadata": {
      "needs_background": "light"
     },
     "output_type": "display_data"
    }
   ],
   "source": [
    "for i in get_months():\n",
    "    print(i)\n",
    "    plot_data(MONTHS_DF, get_month(i)[0], get_month(i)[1])"
   ]
  },
  {
   "cell_type": "code",
   "execution_count": null,
   "metadata": {},
   "outputs": [],
   "source": []
  }
 ],
 "metadata": {
  "kernelspec": {
   "display_name": "Python 3.9 (tensorflow)",
   "language": "python",
   "name": "tensorflow"
  },
  "language_info": {
   "codemirror_mode": {
    "name": "ipython",
    "version": 3
   },
   "file_extension": ".py",
   "mimetype": "text/x-python",
   "name": "python",
   "nbconvert_exporter": "python",
   "pygments_lexer": "ipython3",
   "version": "3.9.12"
  },
  "orig_nbformat": 4
 },
 "nbformat": 4,
 "nbformat_minor": 2
}
